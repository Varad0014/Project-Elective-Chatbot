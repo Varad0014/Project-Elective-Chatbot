{
 "cells": [
  {
   "cell_type": "code",
   "execution_count": 1,
   "source": [
    "from transformers import AutoTokenizer, AutoModelForCausalLM, BitsAndBytesConfig\n",
    "import transformers\n",
    "import torch\n",
    "from torch.utils.data import DataLoader, Dataset"
   ],
   "outputs": [
    {
     "output_type": "stream",
     "name": "stderr",
     "text": [
      "/home/varad/snap/snapd-desktop-integration/83/Desktop/Falcon/falconllmenv/lib/python3.10/site-packages/tqdm/auto.py:21: TqdmWarning: IProgress not found. Please update jupyter and ipywidgets. See https://ipywidgets.readthedocs.io/en/stable/user_install.html\n",
      "  from .autonotebook import tqdm as notebook_tqdm\n"
     ]
    }
   ],
   "metadata": {}
  },
  {
   "cell_type": "code",
   "execution_count": 2,
   "source": [
    "model_name =  \"tiiuae/falcon-7b-instruct\"\n",
    "tokenizer = AutoTokenizer.from_pretrained(model_name)\n",
    "tokenizer.pad_token = tokenizer.eos_token\n",
    "base_model = AutoModelForCausalLM.from_pretrained(model_name, device_map=\"auto\", trust_remote_code=True)"
   ],
   "outputs": [
    {
     "output_type": "stream",
     "name": "stderr",
     "text": [
      "Loading checkpoint shards: 100%|██████████| 2/2 [00:16<00:00,  8.10s/it]\n"
     ]
    }
   ],
   "metadata": {}
  },
  {
   "cell_type": "code",
   "execution_count": 3,
   "source": [
    "from peft import PeftModel\n",
    "\n",
    "# load perf model with new adapters\n",
    "ft_model = PeftModel.from_pretrained(\n",
    "    base_model,\n",
    "    \"outputs-instruct\",\n",
    ")\n",
    "ft_model = ft_model.merge_and_unload()"
   ],
   "outputs": [],
   "metadata": {}
  },
  {
   "cell_type": "code",
   "execution_count": 4,
   "source": [
    "def generate_using_string(example_text):\n",
    "\n",
    "\n",
    "  print(\"Question:\")\n",
    "  print(example_text)\n",
    "\n",
    "  encoding = tokenizer(example_text, return_tensors=\"pt\").to(\"cuda:0\")\n",
    "  output = ft_model.generate(input_ids=encoding.input_ids, attention_mask=encoding.attention_mask, max_new_tokens=100, do_sample=True, temperature=0.000001, eos_token_id=tokenizer.eos_token_id, top_k = 5)\n",
    "\n",
    "  print(\"Answer:\")\n",
    "  answer = tokenizer.decode(output[0], skip_special_tokens=True)\n",
    "  answer = answer.splitlines()[1]\n",
    "  answer = answer.split('.')[0] + answer.split('.')[1]\n",
    "\n",
    "  \n",
    "  print(answer)\n",
    "  \n",
    "  print()"
   ],
   "outputs": [],
   "metadata": {}
  },
  {
   "cell_type": "code",
   "execution_count": 4,
   "source": [
    "from datasets import load_dataset\n",
    "\n",
    "data = load_dataset(\"json\", data_files=\"../Dataset/data_test.json\")\n"
   ],
   "outputs": [],
   "metadata": {}
  },
  {
   "cell_type": "code",
   "execution_count": 5,
   "source": [
    "len(data['train'])"
   ],
   "outputs": [
    {
     "output_type": "execute_result",
     "data": {
      "text/plain": [
       "43"
      ]
     },
     "metadata": {},
     "execution_count": 5
    }
   ],
   "metadata": {}
  },
  {
   "cell_type": "code",
   "execution_count": 6,
   "source": [
    "import json\n",
    "with open('answers.json', 'r') as file:\n",
    "    ans = json.load(file)"
   ],
   "outputs": [],
   "metadata": {}
  },
  {
   "cell_type": "code",
   "execution_count": 7,
   "source": [
    "def ft_generate(index):\n",
    "\n",
    "  example_text = data['train'][index]['question']\n",
    "  correct_answer = data['train'][index]['answer']\n",
    "\n",
    "  print(\"Question:\")\n",
    "  print(example_text)\n",
    "\n",
    "  encoding = tokenizer(example_text, return_tensors=\"pt\").to(\"cuda:0\")\n",
    "  output = ft_model.generate(input_ids=encoding.input_ids, attention_mask=encoding.attention_mask, max_new_tokens=100, do_sample=True, temperature=0.000001, eos_token_id=tokenizer.eos_token_id, top_k = 0)\n",
    "  print(\"Answer Fine Tuned:\")\n",
    "  answer = tokenizer.decode(output[0], skip_special_tokens=True)\n",
    "  answer = answer.split('\\n')[1]\n",
    "  answer = answer.split('.')\n",
    "  if(len(answer) >= 2):\n",
    "    answer = answer[0] + answer[1]\n",
    "  else:\n",
    "    answer = answer[0]\n",
    "  print(answer)\n",
    "\n",
    "  \n",
    "  \n",
    "  print(\"Best Answer:\")\n",
    "  print(correct_answer)\n",
    "\n",
    "\n",
    "  ans[index]['ift_answer'] = answer\n",
    "  print(\"Best Answer:\")\n",
    "  print(correct_answer)\n",
    "\n",
    "  print()"
   ],
   "outputs": [],
   "metadata": {}
  },
  {
   "cell_type": "code",
   "execution_count": 8,
   "source": [
    "for i in range(43):\n",
    "    ft_generate(i)\n"
   ],
   "outputs": [
    {
     "output_type": "stream",
     "name": "stderr",
     "text": [
      "/home/varad/snap/snapd-desktop-integration/83/Desktop/Falcon/falconllmenv/lib/python3.10/site-packages/transformers/generation/utils.py:1411: UserWarning: You have modified the pretrained model configuration to control generation. This is a deprecated strategy to control generation and will be removed soon, in a future version. Please use a generation configuration file (see https://huggingface.co/docs/transformers/main_classes/text_generation )\n",
      "  warnings.warn(\n",
      "Setting `pad_token_id` to `eos_token_id`:11 for open-end generation.\n"
     ]
    },
    {
     "output_type": "stream",
     "name": "stdout",
     "text": [
      "Question:\n",
      "Which mode of transport is advisable for traveling during traffic hours?\n"
     ]
    },
    {
     "output_type": "stream",
     "name": "stderr",
     "text": [
      "Setting `pad_token_id` to `eos_token_id`:11 for open-end generation.\n"
     ]
    },
    {
     "output_type": "stream",
     "name": "stdout",
     "text": [
      "Answer Fine Tuned:\n",
      "For traveling during traffic hours, it's advisable to use public transport options like buses and metro lines These services have fewer delays and you can arrive at your destinations faster\n",
      "Best Answer:\n",
      "The Delhi Metro is a reliable option for traveling during rush hours, as it's not affected by road traffic. Auto-rickshaws and taxis might get stuck in traffic.\n",
      "Best Answer:\n",
      "The Delhi Metro is a reliable option for traveling during rush hours, as it's not affected by road traffic. Auto-rickshaws and taxis might get stuck in traffic.\n",
      "\n",
      "Question:\n",
      "What are a few well-known markets worth visiting?\n"
     ]
    },
    {
     "output_type": "stream",
     "name": "stderr",
     "text": [
      "Setting `pad_token_id` to `eos_token_id`:11 for open-end generation.\n"
     ]
    },
    {
     "output_type": "stream",
     "name": "stdout",
     "text": [
      "Answer Fine Tuned:\n",
      "Make sure to visit markets like Chandni Chowk, Khan Market, and Connaught Place, which offer a vibrant shopping experience and local delights Don't miss out on the excitement\n",
      "Best Answer:\n",
      "Popular markets are Sarojini Nagar Market for cloth shoppings, Chandni Chowk for street food and fashion items, Khan Market for boutiques, Khari Baoli for spices and Dilli Haat for handicrafts\n",
      "Best Answer:\n",
      "Popular markets are Sarojini Nagar Market for cloth shoppings, Chandni Chowk for street food and fashion items, Khan Market for boutiques, Khari Baoli for spices and Dilli Haat for handicrafts\n",
      "\n",
      "Question:\n",
      "How can I reach the New Delhi Railway Station from the airport?\n"
     ]
    },
    {
     "output_type": "stream",
     "name": "stderr",
     "text": [
      "Setting `pad_token_id` to `eos_token_id`:11 for open-end generation.\n"
     ]
    },
    {
     "output_type": "stream",
     "name": "stdout",
     "text": [
      "Answer Fine Tuned:\n",
      "You can take a train from the airport to the railway station The IRCTC Rail Connect Service operates 24/7\n",
      "Best Answer:\n",
      "You can take the Delhi Metro Airport Express line, which connects Indira Gandhi International Airport to New Delhi Railway Station directly. It's a quick and efficient way to travel between the two.\n",
      "Best Answer:\n",
      "You can take the Delhi Metro Airport Express line, which connects Indira Gandhi International Airport to New Delhi Railway Station directly. It's a quick and efficient way to travel between the two.\n",
      "\n",
      "Question:\n",
      "Which places can I go to try out Street food\n"
     ]
    },
    {
     "output_type": "stream",
     "name": "stderr",
     "text": [
      "Setting `pad_token_id` to `eos_token_id`:11 for open-end generation.\n"
     ]
    },
    {
     "output_type": "stream",
     "name": "stdout",
     "text": [
      "Answer Fine Tuned:\n",
      "If you're a fan of Street food, here are some places in Delhi where you can enjoy it: Kyariya Pao, Paranthe Wali Gali, Chandni Chowk, Sarojini Nagar, and Connaught Place These areas are known for their diverse food options, including Street foods\n",
      "Best Answer:\n",
      "You can visit Chandni Chowk, Connaught Place and Lajpat Nagar\n",
      "Best Answer:\n",
      "You can visit Chandni Chowk, Connaught Place and Lajpat Nagar\n",
      "\n",
      "Question:\n",
      "How should I go about using public transportation to get around the city?\n"
     ]
    },
    {
     "output_type": "stream",
     "name": "stderr",
     "text": [
      "Setting `pad_token_id` to `eos_token_id`:11 for open-end generation.\n"
     ]
    },
    {
     "output_type": "stream",
     "name": "stdout",
     "text": [
      "Answer Fine Tuned:\n",
      "The Delhi Metro is a convenient way to travel within the city You can also use auto-rickshaws, buses, and taxis to get around\n",
      "Best Answer:\n",
      "When getting around Delhi using public transportation, you have several options, including the buses, auto-rickshaw, and metro. The metro is a particularly convenient choice for accessing major city attractions.\n",
      "Best Answer:\n",
      "When getting around Delhi using public transportation, you have several options, including the buses, auto-rickshaw, and metro. The metro is a particularly convenient choice for accessing major city attractions.\n",
      "\n",
      "Question:\n",
      "What are some unconventional or lesser-known attractions that are worth a visit?\n"
     ]
    },
    {
     "output_type": "stream",
     "name": "stderr",
     "text": [
      "Setting `pad_token_id` to `eos_token_id`:11 for open-end generation.\n"
     ]
    },
    {
     "output_type": "stream",
     "name": "stdout",
     "text": [
      "Answer Fine Tuned:\n",
      "You might want to consider visiting unconventional attractions like science parks, air force museums, or nature reserves These places offer a different kind of entertainment and provide an opportunity for education and exploration\n",
      "Best Answer:\n",
      "Indeed, you can explore places like  National Rail Museum, Tughlaqabad Fort, Doll Museum, and  Agrasen ki Baoli for unique and quieter experiences in the city.\n",
      "Best Answer:\n",
      "Indeed, you can explore places like  National Rail Museum, Tughlaqabad Fort, Doll Museum, and  Agrasen ki Baoli for unique and quieter experiences in the city.\n",
      "\n",
      "Question:\n",
      "Can I use the Metro to travel to historical and cultural sites?\n"
     ]
    },
    {
     "output_type": "stream",
     "name": "stderr",
     "text": [
      "Setting `pad_token_id` to `eos_token_id`:11 for open-end generation.\n"
     ]
    },
    {
     "output_type": "stream",
     "name": "stdout",
     "text": [
      "Answer Fine Tuned:\n",
      "Absolutely, the Metro is a convenient way to access historical and cultural sites Many of these sites have dedicated metro stations\n",
      "Best Answer:\n",
      "Absolutely, the Delhi Metro conveniently connects to historical landmarks such as the Red Fort, Qutub Minar, Humayun's Tomb, and cultural hubs like Dilli Haat, allowing tourists to explore these sites easily.\n",
      "Best Answer:\n",
      "Absolutely, the Delhi Metro conveniently connects to historical landmarks such as the Red Fort, Qutub Minar, Humayun's Tomb, and cultural hubs like Dilli Haat, allowing tourists to explore these sites easily.\n",
      "\n",
      "Question:\n",
      "Could you recommend the key tourist attractions in Delhi that I should include in my itinerary?\n"
     ]
    },
    {
     "output_type": "stream",
     "name": "stderr",
     "text": [
      "Setting `pad_token_id` to `eos_token_id`:11 for open-end generation.\n"
     ]
    },
    {
     "output_type": "stream",
     "name": "stdout",
     "text": [
      "Answer Fine Tuned:\n",
      "Absolutely, consider including tourist attractions like the iconic Red Fort, Qutub Minar, India Gate, Humayun's Tomb, the Lotus Temple and the Taj Mahal-like Jama Masjid Mosque in your customized itinerary to enjoy a comprehensive experience Don't forget to also visit renowned museums like the India Museum and the National Science Museum\n",
      "Best Answer:\n",
      "When planning your visit to Delhi, be sure to include renowned landmarks such as India Gate, Red Fort, and the Lotus Temple in your must-see list.\n",
      "Best Answer:\n",
      "When planning your visit to Delhi, be sure to include renowned landmarks such as India Gate, Red Fort, and the Lotus Temple in your must-see list.\n",
      "\n",
      "Question:\n",
      "When is the prime season to enjoy Delhi's tourist destinations?\n"
     ]
    },
    {
     "output_type": "stream",
     "name": "stderr",
     "text": [
      "Setting `pad_token_id` to `eos_token_id`:11 for open-end generation.\n"
     ]
    },
    {
     "output_type": "stream",
     "name": "stdout",
     "text": [
      "Answer Fine Tuned:\n",
      "You can enjoy Delhi's tourist destinations better by planning your visit during the winter season, which typically extends from October to March This period offers the most favorable conditions for outdoor exploration\n",
      "Best Answer:\n",
      "To make the most of your visit to Delhi's attractions, consider planning your trip during the winter season, which usually spans from October to March. The comfortable weather during this time enhances the overall experience.\n",
      "Best Answer:\n",
      "To make the most of your visit to Delhi's attractions, consider planning your trip during the winter season, which usually spans from October to March. The comfortable weather during this time enhances the overall experience.\n",
      "\n",
      "Question:\n",
      "Are there street food areas that are popular for late breakfast or brunch?\n"
     ]
    },
    {
     "output_type": "stream",
     "name": "stderr",
     "text": [
      "Setting `pad_token_id` to `eos_token_id`:11 for open-end generation.\n"
     ]
    },
    {
     "output_type": "stream",
     "name": "stdout",
     "text": [
      "Answer Fine Tuned:\n",
      "Yes, areas like Connaught Place, Lajpat Nagar and Chandni Chowk have a lively street food scene that are perfect for enjoying breakfast or brunch Some popular dishes to try are egg-based dishes, parathas, and local chaat\n",
      "Best Answer:\n",
      "Yes, some areas like Paranthe Wali Gali in Chandni Chowk are known for serving breakfast delicacies like stuffed parathas, making them perfect for a late breakfast or brunch.\n",
      "Best Answer:\n",
      "Yes, some areas like Paranthe Wali Gali in Chandni Chowk are known for serving breakfast delicacies like stuffed parathas, making them perfect for a late breakfast or brunch.\n",
      "\n",
      "Question:\n",
      "Which markets in are known for their book selections, especially for avid readers?\n"
     ]
    },
    {
     "output_type": "stream",
     "name": "stderr",
     "text": [
      "Setting `pad_token_id` to `eos_token_id`:11 for open-end generation.\n"
     ]
    },
    {
     "output_type": "stream",
     "name": "stdout",
     "text": [
      "Answer Fine Tuned:\n",
      "Delhi's markets, including Chandni Chowk, Atlas Mall, and Connaught Place, are renowned for their diverse book offerings, particularly catering to readers looking for a wide range of genres Other popular options include markets like Hauz Khas and Khan Market, both known for their eclectic book culture\n",
      "Best Answer:\n",
      "Daryaganj's Sunday Book Market is a renowned destination for book enthusiasts, offering an extensive collection of both new and second-hand books, including rare editions and popular titles.\n",
      "Best Answer:\n",
      "Daryaganj's Sunday Book Market is a renowned destination for book enthusiasts, offering an extensive collection of both new and second-hand books, including rare editions and popular titles.\n",
      "\n",
      "Question:\n",
      "How can I go about booking an auto-rickshaw in Delhi as a tourist?\n"
     ]
    },
    {
     "output_type": "stream",
     "name": "stderr",
     "text": [
      "Setting `pad_token_id` to `eos_token_id`:11 for open-end generation.\n"
     ]
    },
    {
     "output_type": "stream",
     "name": "stdout",
     "text": [
      "Answer Fine Tuned:\n",
      "You can book an auto-rickshaw by mentioning the word 'taxi' or 'auto' in Hindi or English The drivers usually understand either language\n",
      "Best Answer:\n",
      "Booking an auto-rickshaw in Delhi as a tourist is as easy as stop one down from the street.Additionally, tourists can opt for ride-hailing apps such as Uber..\n",
      "Best Answer:\n",
      "Booking an auto-rickshaw in Delhi as a tourist is as easy as stop one down from the street.Additionally, tourists can opt for ride-hailing apps such as Uber..\n",
      "\n",
      "Question:\n",
      "How can I plan an efficient sightseeing itinerary in Delhi?\n"
     ]
    },
    {
     "output_type": "stream",
     "name": "stderr",
     "text": [
      "Setting `pad_token_id` to `eos_token_id`:11 for open-end generation.\n"
     ]
    },
    {
     "output_type": "stream",
     "name": "stdout",
     "text": [
      "Answer Fine Tuned:\n",
      "Plan your sightseeing activities in Delhi during non-peak hours to avoid crowds and enjoy your own pace Consider researching which attractions have shorter lines and when to arrive\n",
      "Best Answer:\n",
      "Research the attractions you want to visit and group them by proximity. Use the Delhi Metro for longer distances and autos/taxis for shorter ones to maximize your time.\n",
      "Best Answer:\n",
      "Research the attractions you want to visit and group them by proximity. Use the Delhi Metro for longer distances and autos/taxis for shorter ones to maximize your time.\n",
      "\n",
      "Question:\n",
      "Are there any less-known attractions in Delhi that are worth exploring?\n"
     ]
    },
    {
     "output_type": "stream",
     "name": "stderr",
     "text": [
      "Setting `pad_token_id` to `eos_token_id`:11 for open-end generation.\n"
     ]
    },
    {
     "output_type": "stream",
     "name": "stdout",
     "text": [
      "Answer Fine Tuned:\n",
      "Certainly, consider visiting places like Sultanpur's lake, Shambhu Dham, Shaniwarwada Fort, and the National Rail Museum for unique and less-crowded experiences Don't miss out on the chance to explore these lesser-known gems\n",
      "Best Answer:\n",
      "Yes, you can discover places like Agrasen ki Baoli, Mehrauli Archaeological Park, Shanti Van Tughlaqabad Fort, Doll Museum and the National Rail Museum for distinctive and quieter experiences.\n",
      "Best Answer:\n",
      "Yes, you can discover places like Agrasen ki Baoli, Mehrauli Archaeological Park, Shanti Van Tughlaqabad Fort, Doll Museum and the National Rail Museum for distinctive and quieter experiences.\n",
      "\n",
      "Question:\n",
      "What is the preferred means of transportation for longer journeys?\n"
     ]
    },
    {
     "output_type": "stream",
     "name": "stderr",
     "text": [
      "Setting `pad_token_id` to `eos_token_id`:11 for open-end generation.\n"
     ]
    },
    {
     "output_type": "stream",
     "name": "stdout",
     "text": [
      "Answer Fine Tuned:\n",
      "For longer journeys, the Delhi Metro is often preferred It is a fast and efficient way to travel within the city\n",
      "Best Answer:\n",
      "When embarking on longer journeys within Delhi, it is recommended to choose metro services or taxis.\n",
      "Best Answer:\n",
      "When embarking on longer journeys within Delhi, it is recommended to choose metro services or taxis.\n",
      "\n",
      "Question:\n",
      "How can I ensure safe transportation when traveling at night within the city?\n"
     ]
    },
    {
     "output_type": "stream",
     "name": "stderr",
     "text": [
      "Setting `pad_token_id` to `eos_token_id`:11 for open-end generation.\n"
     ]
    },
    {
     "output_type": "stream",
     "name": "stdout",
     "text": [
      "Answer Fine Tuned:\n",
      "To ensure safe transportation at night, consider using public transport or a trusted taxi Make sure to research which metro stations are currently operating and check with the driver before entering\n",
      "Best Answer:\n",
      "For safe transportation at night within the city, consider using registered taxi services like Uber or Ola. Additionally, you can rely on the safety of the Delhi Metro, which operates between 6 AM and 11 PM.\n",
      "Best Answer:\n",
      "For safe transportation at night within the city, consider using registered taxi services like Uber or Ola. Additionally, you can rely on the safety of the Delhi Metro, which operates between 6 AM and 11 PM.\n",
      "\n",
      "Question:\n",
      "Is the Delhi Metro well-connected to both historical landmarks and cultural destinations in the city?\n"
     ]
    },
    {
     "output_type": "stream",
     "name": "stderr",
     "text": [
      "Setting `pad_token_id` to `eos_token_id`:11 for open-end generation.\n"
     ]
    },
    {
     "output_type": "stream",
     "name": "stdout",
     "text": [
      "Answer Fine Tuned:\n",
      "The Delhi Metro is well-connected to a variety of historical landmarks, heritage sites, and cultural destinations in the city, offering a seamless blend between tradition and modernity Some of the metro's popular routes that cater to tourists include Connaught Place, Khan Market, Red Fort, and Agra Fort\n",
      "Best Answer:\n",
      "Yes, the Delhi Metro boasts excellent connectivity to historical landmarks such as the Red Fort and Qutub Minar, as well as cultural hotspots. This makes it a highly accessible and efficient mode of transportation for tourists wanting to visit these sites.\n",
      "Best Answer:\n",
      "Yes, the Delhi Metro boasts excellent connectivity to historical landmarks such as the Red Fort and Qutub Minar, as well as cultural hotspots. This makes it a highly accessible and efficient mode of transportation for tourists wanting to visit these sites.\n",
      "\n",
      "Question:\n",
      "What's the local cuisine like in the city?\n"
     ]
    },
    {
     "output_type": "stream",
     "name": "stderr",
     "text": [
      "Setting `pad_token_id` to `eos_token_id`:11 for open-end generation.\n"
     ]
    },
    {
     "output_type": "stream",
     "name": "stdout",
     "text": [
      "Answer Fine Tuned:\n",
      "The local cuisine in the city is a mix of traditional and modern dishes Some popular dishes include biryani, kebabs, and chaat\n",
      "Best Answer:\n",
      "Delhi is famous for its street food and diverse culinary scene. Don't miss trying chaat, kebabs, and Mughlai dishes, Momos, Chole Bhature, Paranthas, Dahi Bhalle.\n",
      "Best Answer:\n",
      "Delhi is famous for its street food and diverse culinary scene. Don't miss trying chaat, kebabs, and Mughlai dishes, Momos, Chole Bhature, Paranthas, Dahi Bhalle.\n",
      "\n",
      "Question:\n",
      "What are the transportation options available to reach Delhi's attractions?\n"
     ]
    },
    {
     "output_type": "stream",
     "name": "stderr",
     "text": [
      "Setting `pad_token_id` to `eos_token_id`:11 for open-end generation.\n"
     ]
    },
    {
     "output_type": "stream",
     "name": "stdout",
     "text": [
      "Answer Fine Tuned:\n",
      "To reach Delhi's attractions, you can utilize a variety of transportation options, including the extensive Delhi Metro, public buses, auto-rickshaws, taxis, and car rentals The Metro is particularly convenient, as most attractions have metro stations nearby\n",
      "Best Answer:\n",
      "Delhi's attractions are conveniently accessible through a variety of transportation options, including the extensive Delhi Metro network, public buses, auto-rickshaws, taxis, and car rentals. Most attractions are well-connected within the city.\n",
      "Best Answer:\n",
      "Delhi's attractions are conveniently accessible through a variety of transportation options, including the extensive Delhi Metro network, public buses, auto-rickshaws, taxis, and car rentals. Most attractions are well-connected within the city.\n",
      "\n",
      "Question:\n",
      "Are there any wildlife getaways near Delhi?\n"
     ]
    },
    {
     "output_type": "stream",
     "name": "stderr",
     "text": [
      "Setting `pad_token_id` to `eos_token_id`:11 for open-end generation.\n"
     ]
    },
    {
     "output_type": "stream",
     "name": "stdout",
     "text": [
      "Answer Fine Tuned:\n",
      "Yes, you can visit wildlife getaways like Jim Corbett National Park and Sariska Tiger Reserve, both located within driving distance from Delhi, for wildlife exploration Consider booking a day trip to experience the natural beauty of these parks\n",
      "Best Answer:\n",
      "Yes, places like Jim Corbett National Park, Sariska Tiger Reserve and Bharatpur Bird Sanctuary,  are within driving distance from Delhi.\n",
      "Best Answer:\n",
      "Yes, places like Jim Corbett National Park, Sariska Tiger Reserve and Bharatpur Bird Sanctuary,  are within driving distance from Delhi.\n",
      "\n",
      "Question:\n",
      "Which nearby hill stations can I visit for 2-3 days?\n"
     ]
    },
    {
     "output_type": "stream",
     "name": "stderr",
     "text": [
      "Setting `pad_token_id` to `eos_token_id`:11 for open-end generation.\n"
     ]
    },
    {
     "output_type": "stream",
     "name": "stdout",
     "text": [
      "Answer Fine Tuned:\n",
      "If you're looking for nearby hill stations to visit for 2-3 days, consider these options: 1 Dharamshala2\n",
      "Best Answer:\n",
      "You have several nearby options for a weekend break from Delhi, including hill stations like Shimla, Manali, Mussoorie, Kasaulo, and Nainital, each offering a refreshing getaway.\n",
      "Best Answer:\n",
      "You have several nearby options for a weekend break from Delhi, including hill stations like Shimla, Manali, Mussoorie, Kasaulo, and Nainital, each offering a refreshing getaway.\n",
      "\n",
      "Question:\n",
      "What's the process for booking an auto-rickshaw in Delhi?\n"
     ]
    },
    {
     "output_type": "stream",
     "name": "stderr",
     "text": [
      "Setting `pad_token_id` to `eos_token_id`:11 for open-end generation.\n"
     ]
    },
    {
     "output_type": "stream",
     "name": "stdout",
     "text": [
      "Answer Fine Tuned:\n",
      "You can book an auto-rickshaw either through the driver, which is recommended for convenience, or via mobile apps like Ola or Uber Make sure to have the app installed and activated on your device\n",
      "Best Answer:\n",
      "To book an auto-rickshaw, you can simply flag one down from the street. Negotiate the fare before starting the ride, and consider using ride-hailing apps like Ola and Uber for a more standardized experience.\n",
      "Best Answer:\n",
      "To book an auto-rickshaw, you can simply flag one down from the street. Negotiate the fare before starting the ride, and consider using ride-hailing apps like Ola and Uber for a more standardized experience.\n",
      "\n",
      "Question:\n",
      "Is the Metro a practical choice for accessing historical and cultural sites?\n"
     ]
    },
    {
     "output_type": "stream",
     "name": "stderr",
     "text": [
      "Setting `pad_token_id` to `eos_token_id`:11 for open-end generation.\n"
     ]
    },
    {
     "output_type": "stream",
     "name": "stdout",
     "text": [
      "Answer Fine Tuned:\n",
      "Absolutely, the Metro provides access to numerous historical and cultural sites in Delhi Many of these sites have historical significance and are worth exploring\n",
      "Best Answer:\n",
      "Certainly, the Delhi Metro provides a practical and efficient means of reaching historical landmarks. It's a convenient option for tourists looking to explore these sites hassle-free.\n",
      "Best Answer:\n",
      "Certainly, the Delhi Metro provides a practical and efficient means of reaching historical landmarks. It's a convenient option for tourists looking to explore these sites hassle-free.\n",
      "\n",
      "Question:\n",
      "Could you recommend some iconic dishes from Delhi's local culinary scene that are worth trying?\n"
     ]
    },
    {
     "output_type": "stream",
     "name": "stderr",
     "text": [
      "Setting `pad_token_id` to `eos_token_id`:11 for open-end generation.\n"
     ]
    },
    {
     "output_type": "stream",
     "name": "stdout",
     "text": [
      "Answer Fine Tuned:\n",
      "Certainly, try the classic kebabs, jalebi, dhokla, chole bhature, aloo puri, and a variety of biryanis The diversity in terms of taste and flavors make it a rewarding experience to explore the distinct flavors of Indian cuisine\n",
      "Best Answer:\n",
      "Don't miss out on trying iconic dishes from Delhi's local culinary scene, including Butter Chicken, Chole Bhature, Paratha, and a diverse selection of kebabs.\n",
      "Best Answer:\n",
      "Don't miss out on trying iconic dishes from Delhi's local culinary scene, including Butter Chicken, Chole Bhature, Paratha, and a diverse selection of kebabs.\n",
      "\n",
      "Question:\n",
      "What's the best approach for using public transportation to explore the city?\n"
     ]
    },
    {
     "output_type": "stream",
     "name": "stderr",
     "text": [
      "Setting `pad_token_id` to `eos_token_id`:11 for open-end generation.\n"
     ]
    },
    {
     "output_type": "stream",
     "name": "stdout",
     "text": [
      "Answer Fine Tuned:\n",
      "To explore the city, we recommend you download the Delhi Metro App, which makes navigation seamless Also, consider using Auto-rickshaws or the app 'Ola' for faster travel during peak hours\n",
      "Best Answer:\n",
      "To explore Delhi using public transportation, consider the available options such as the extensive metro network, taxis, auto-rickshaw and buses.\n",
      "Best Answer:\n",
      "To explore Delhi using public transportation, consider the available options such as the extensive metro network, taxis, auto-rickshaw and buses.\n",
      "\n",
      "Question:\n",
      "How can tourists easily visit Delhi's famous markets?\n"
     ]
    },
    {
     "output_type": "stream",
     "name": "stderr",
     "text": [
      "Setting `pad_token_id` to `eos_token_id`:11 for open-end generation.\n"
     ]
    },
    {
     "output_type": "stream",
     "name": "stdout",
     "text": [
      "Answer Fine Tuned:\n",
      "Delhi's markets are easily accessible by tourists, as many of them offer convenient transportation services, ensuring a seamless visit Many markets have their own metro stations, which provides a fast and efficient way to reach them\n",
      "Best Answer:\n",
      "Auto-rickshaws, metro, buses and cabs are readily available for access. The most popular choice is the Delhi Metro, which is equipped with dedicated stations for these markets.\n",
      "Best Answer:\n",
      "Auto-rickshaws, metro, buses and cabs are readily available for access. The most popular choice is the Delhi Metro, which is equipped with dedicated stations for these markets.\n",
      "\n",
      "Question:\n",
      "Are there markets with a selection of handicrafts and home decor items?\n"
     ]
    },
    {
     "output_type": "stream",
     "name": "stderr",
     "text": [
      "Setting `pad_token_id` to `eos_token_id`:11 for open-end generation.\n"
     ]
    },
    {
     "output_type": "stream",
     "name": "stdout",
     "text": [
      "Answer Fine Tuned:\n",
      "Yes, many markets in Delhi include options for handicrafts, home decor items, and souvenirs For example, the Janpath Market and Sarojini Nagar market offer a wide range of handicrafts and home decor items\n",
      "Best Answer:\n",
      "Yes, markets like Delhi Haat and Crafts Museum offer a wide range of handicrafts, textiles, and home decor items that showcase India's craftsmanship.\n",
      "Best Answer:\n",
      "Yes, markets like Delhi Haat and Crafts Museum offer a wide range of handicrafts, textiles, and home decor items that showcase India's craftsmanship.\n",
      "\n",
      "Question:\n",
      "What is the recommended time of year to visit Delhi's tourist spots for comfortable weather?\n"
     ]
    },
    {
     "output_type": "stream",
     "name": "stderr",
     "text": [
      "Setting `pad_token_id` to `eos_token_id`:11 for open-end generation.\n"
     ]
    },
    {
     "output_type": "stream",
     "name": "stdout",
     "text": [
      "Answer Fine Tuned:\n",
      "For comfortable weather, it's recommended to visit Delhi's tourist spots during the winter season, typically occurring from October to March\n",
      "Best Answer:\n",
      "For a comfortable and enjoyable visit to Delhi's tourist spots, consider the winter season, which typically occurs from October to March.\n",
      "Best Answer:\n",
      "For a comfortable and enjoyable visit to Delhi's tourist spots, consider the winter season, which typically occurs from October to March.\n",
      "\n",
      "Question:\n",
      "What are the different types of metro cards available for tourists?\n"
     ]
    },
    {
     "output_type": "stream",
     "name": "stderr",
     "text": [
      "Setting `pad_token_id` to `eos_token_id`:11 for open-end generation.\n"
     ]
    },
    {
     "output_type": "stream",
     "name": "stdout",
     "text": [
      "Answer Fine Tuned:\n",
      "Tourists can purchase a 'Tours' card, which allows multiple entries within a specific time, and a 'Single' card for one entry It's a great way to explore multiple attractions\n",
      "Best Answer:\n",
      "Tourists can choose from a 'Tourist Card' offering unlimited travel for a certain number of days, or a 'Stored Value Card' (Smart Card) that can be recharged for multiple rides.\n",
      "Best Answer:\n",
      "Tourists can choose from a 'Tourist Card' offering unlimited travel for a certain number of days, or a 'Stored Value Card' (Smart Card) that can be recharged for multiple rides.\n",
      "\n",
      "Question:\n",
      "Which markets in Delhi are renowned for offering a selection of handicrafts and jewellery?\n"
     ]
    },
    {
     "output_type": "stream",
     "name": "stderr",
     "text": [
      "Setting `pad_token_id` to `eos_token_id`:11 for open-end generation.\n"
     ]
    },
    {
     "output_type": "stream",
     "name": "stdout",
     "text": [
      "Answer Fine Tuned:\n",
      "While exploring markets like Chandni Chowk, Kinari Bazar, and Sarojini Nagar for fashion items, consider visiting stores that specialize in handcrafted products This includes shops that focus on jewellery and handicrafts like Maa Chaudhary Jewellers, Shoppers Stop, and Shimmer\n",
      "Best Answer:\n",
      "Janpath Market and Delhi Haat are widely recognized markets where you can find an extensive range of traditional handicrafts and jewellery.\n",
      "Best Answer:\n",
      "Janpath Market and Delhi Haat are widely recognized markets where you can find an extensive range of traditional handicrafts and jewellery.\n",
      "\n",
      "Question:\n",
      "What are the popular areas or tourist spots in Delhi where tourists can easily find auto-rickshaws?\n"
     ]
    },
    {
     "output_type": "stream",
     "name": "stderr",
     "text": [
      "Setting `pad_token_id` to `eos_token_id`:11 for open-end generation.\n"
     ]
    },
    {
     "output_type": "stream",
     "name": "stdout",
     "text": [
      "Answer Fine Tuned:\n",
      "Popular tourist spots or areas in Delhi that can be easily reached by auto-rickshaws include the Red Fort, Qutub Minar, India Gate, Humayun's Tomb, and the Lotus Temple These places are easily accessible by auto-rickshaws, making them ideal for tourists looking to explore these historic or cultural sites\n",
      "Best Answer:\n",
      "Tourists can easily find auto-rickshaws near popular areas and tourist spots in Delhi, including Connaught Place, India Gate, and major metro stations.\n",
      "Best Answer:\n",
      "Tourists can easily find auto-rickshaws near popular areas and tourist spots in Delhi, including Connaught Place, India Gate, and major metro stations.\n",
      "\n",
      "Question:\n",
      "Are there attractions in Delhi that offer cultural performances or events?\n"
     ]
    },
    {
     "output_type": "stream",
     "name": "stderr",
     "text": [
      "Setting `pad_token_id` to `eos_token_id`:11 for open-end generation.\n"
     ]
    },
    {
     "output_type": "stream",
     "name": "stdout",
     "text": [
      "Answer Fine Tuned:\n",
      "Yes, attractions like the India Gate and Nehru Park, both located in New Delhi, offer cultural performances and events for visitors to enjoy Many occasions like Diwali and Holi are celebrated here with great enthusiasm\n",
      "Best Answer:\n",
      "Yes, attractions like Dilli Haat and Kingdom of Dreams offer cultural performances, traditional crafts, and entertainment options that showcase Delhi's diverse culture.\n",
      "Best Answer:\n",
      "Yes, attractions like Dilli Haat and Kingdom of Dreams offer cultural performances, traditional crafts, and entertainment options that showcase Delhi's diverse culture.\n",
      "\n",
      "Question:\n",
      "How can I pay for cab rides?\n"
     ]
    },
    {
     "output_type": "stream",
     "name": "stderr",
     "text": [
      "Setting `pad_token_id` to `eos_token_id`:11 for open-end generation.\n"
     ]
    },
    {
     "output_type": "stream",
     "name": "stdout",
     "text": [
      "Answer Fine Tuned:\n",
      "You can pay for cab rides using digital payment methods such as Google Pay, Apple Pay, or cash Many drivers accept digital payments, but you can also pay using card\n",
      "Best Answer:\n",
      "You can pay for cab rides using cash, digital wallets, or linked credit/debit cards through the respective cab service apps. Most drivers prefer digital payments for convenience.\n",
      "Best Answer:\n",
      "You can pay for cab rides using cash, digital wallets, or linked credit/debit cards through the respective cab service apps. Most drivers prefer digital payments for convenience.\n",
      "\n",
      "Question:\n",
      "Is there a separate fare for using the Airport Express line?\n"
     ]
    },
    {
     "output_type": "stream",
     "name": "stderr",
     "text": [
      "Setting `pad_token_id` to `eos_token_id`:11 for open-end generation.\n"
     ]
    },
    {
     "output_type": "stream",
     "name": "stdout",
     "text": [
      "Answer Fine Tuned:\n",
      "Yes, the fare for using the Airport Express line includes a separate fare In Delhi, the fare for one-stop trips on the Airport Express line is Rs\n",
      "Best Answer:\n",
      "Yes, the Airport Express line has a separate fare structure. You can use your Smart Card, Token, or other payment methods to travel on this line, but the fare may be different from other lines.\n",
      "Best Answer:\n",
      "Yes, the Airport Express line has a separate fare structure. You can use your Smart Card, Token, or other payment methods to travel on this line, but the fare may be different from other lines.\n",
      "\n",
      "Question:\n",
      "How can I reach the Delhi Metro from the airport?\n"
     ]
    },
    {
     "output_type": "stream",
     "name": "stderr",
     "text": [
      "Setting `pad_token_id` to `eos_token_id`:11 for open-end generation.\n"
     ]
    },
    {
     "output_type": "stream",
     "name": "stdout",
     "text": [
      "Answer Fine Tuned:\n",
      "You can take the Metro from the airport to your destination The stations INCLUDE Terminal 1 and 2, and you can access them by taking the airport shuttle or by metro\n",
      "Best Answer:\n",
      "Delhi's Indira Gandhi International Airport is well-connected to the Delhi Metro. You can access the metro station directly from Terminal 3, and there are shuttle services connecting Terminals 1 and 2 to the metro station.\n",
      "Best Answer:\n",
      "Delhi's Indira Gandhi International Airport is well-connected to the Delhi Metro. You can access the metro station directly from Terminal 3, and there are shuttle services connecting Terminals 1 and 2 to the metro station.\n",
      "\n",
      "Question:\n",
      "What choices do tourists have when it comes to metro cards?\n"
     ]
    },
    {
     "output_type": "stream",
     "name": "stderr",
     "text": [
      "Setting `pad_token_id` to `eos_token_id`:11 for open-end generation.\n"
     ]
    },
    {
     "output_type": "stream",
     "name": "stdout",
     "text": [
      "Answer Fine Tuned:\n",
      "Tourists can purchase single-use cards that accommodate up to 3 rides, daily cards for 1, 3, 5, 7 days, and public transit cards that accommodate 1, 2, 3 days Travelers can choose the appropriate card depending on their intended usage\n",
      "Best Answer:\n",
      "For tourists in Delhi, there are two primary choices for metro cards: the 'Tourist Card,' which offers unlimited travel for a set duration, and the 'Stored Value Card' (Smart Card), ideal for multiple rides and easy top-ups.\n",
      "Best Answer:\n",
      "For tourists in Delhi, there are two primary choices for metro cards: the 'Tourist Card,' which offers unlimited travel for a set duration, and the 'Stored Value Card' (Smart Card), ideal for multiple rides and easy top-ups.\n",
      "\n",
      "Question:\n",
      "What's the best time to visit Delhi?\n"
     ]
    },
    {
     "output_type": "stream",
     "name": "stderr",
     "text": [
      "Setting `pad_token_id` to `eos_token_id`:11 for open-end generation.\n"
     ]
    },
    {
     "output_type": "stream",
     "name": "stdout",
     "text": [
      "Answer Fine Tuned:\n",
      "Delhi experiences a hot and humid summer season from March to October, with peak temperatures typically occurring between  October-February To enjoy your visits, consider scheduling your activities for early mornings or late afternoons\n",
      "Best Answer:\n",
      "The best time to visit Delhi is from October to March when the weather is pleasant and suitable for exploring outside.\n",
      "Best Answer:\n",
      "The best time to visit Delhi is from October to March when the weather is pleasant and suitable for exploring outside.\n",
      "\n",
      "Question:\n",
      "What transportation choices are ideal for a comfortable experience during summer in Delhi?\n"
     ]
    },
    {
     "output_type": "stream",
     "name": "stderr",
     "text": [
      "Setting `pad_token_id` to `eos_token_id`:11 for open-end generation.\n"
     ]
    },
    {
     "output_type": "stream",
     "name": "stdout",
     "text": [
      "Answer Fine Tuned:\n",
      "To experience a comfortable summer in Delhi, choose air-conditioned buses, metro stations, and taxis Avoid non-airconditioned trains and autos\n",
      "Best Answer:\n",
      "For a comfortable experience during hot weather in Delhi, opt for air-conditioned transportation options such as taxis and metro services. You can also opt for some air conditioned buses.\n",
      "Best Answer:\n",
      "For a comfortable experience during hot weather in Delhi, opt for air-conditioned transportation options such as taxis and metro services. You can also opt for some air conditioned buses.\n",
      "\n",
      "Question:\n",
      "How do I hire an auto-rickshaw?\n"
     ]
    },
    {
     "output_type": "stream",
     "name": "stderr",
     "text": [
      "Setting `pad_token_id` to `eos_token_id`:11 for open-end generation.\n"
     ]
    },
    {
     "output_type": "stream",
     "name": "stdout",
     "text": [
      "Answer Fine Tuned:\n",
      "Hiring an auto-rickshaw is as easy as downloading a transportation app Many auto-rickshaw drivers use mobile payment options like Paytm or Google Pay\n",
      "Best Answer:\n",
      "You can easily find auto-rickshaws on the streets. Make sure the driver agrees to use the meter or negotiate the fare before starting the journey.\n",
      "Best Answer:\n",
      "You can easily find auto-rickshaws on the streets. Make sure the driver agrees to use the meter or negotiate the fare before starting the journey.\n",
      "\n",
      "Question:\n",
      "What strategies can I use to minimize crowds and have a peaceful visit to well-known attraction?\n"
     ]
    },
    {
     "output_type": "stream",
     "name": "stderr",
     "text": [
      "Setting `pad_token_id` to `eos_token_id`:11 for open-end generation.\n"
     ]
    },
    {
     "output_type": "stream",
     "name": "stdout",
     "text": [
      "Answer Fine Tuned:\n",
      "To minimize crowds and have a peaceful visit, consider visiting the attraction early in the morning when it's less crowded, choosing alternative less popular routes, and avoiding peak hours Make an advance booking of the attraction to secure a convenient location\n",
      "Best Answer:\n",
      "Minimize crowds and enhance your experience at renowned Delhi attractions by planning your visits early in the morning, right after they open, or by choosing weekdays for your outings.\n",
      "Best Answer:\n",
      "Minimize crowds and enhance your experience at renowned Delhi attractions by planning your visits early in the morning, right after they open, or by choosing weekdays for your outings.\n",
      "\n",
      "Question:\n",
      "What's the best approach to beat the crowds and fully enjoy Delhi's popular attractions?\n"
     ]
    },
    {
     "output_type": "stream",
     "name": "stderr",
     "text": [
      "Setting `pad_token_id` to `eos_token_id`:11 for open-end generation.\n"
     ]
    },
    {
     "output_type": "stream",
     "name": "stdout",
     "text": [
      "Answer Fine Tuned:\n",
      "To beat crowds and fully enjoy Delhi's popular attractions, consider visiting them early in the morning just after they open, avoiding peak hours Avoid weekends when crowds are denser\n",
      "Best Answer:\n",
      "To beat the crowds and fully enjoy Delhi's popular attractions, plan your visits for the early morning when they open or opt for weekday excursions.\n",
      "Best Answer:\n",
      "To beat the crowds and fully enjoy Delhi's popular attractions, plan your visits for the early morning when they open or opt for weekday excursions.\n",
      "\n",
      "Question:\n",
      "For traveling in city during busy rush hours, which mode of transportation is the most reliable?\n"
     ]
    },
    {
     "output_type": "stream",
     "name": "stderr",
     "text": [
      "Setting `pad_token_id` to `eos_token_id`:11 for open-end generation.\n"
     ]
    },
    {
     "output_type": "stream",
     "name": "stdout",
     "text": [
      "Answer Fine Tuned:\n",
      "In city centers, the metro systems are generally reliable and efficient However, when traveling to specific destinations, taxis or auto-rickshaws are a viable option\n",
      "Best Answer:\n",
      "To ensure reliability while traveling during busy rush hours in Delhi, it's advisable to choose the Delhi Metro.\n",
      "Best Answer:\n",
      "To ensure reliability while traveling during busy rush hours in Delhi, it's advisable to choose the Delhi Metro.\n",
      "\n",
      "Question:\n",
      "How can I book a taxi?\n",
      "Answer Fine Tuned:\n",
      "You can book a taxi either through a mobile app, by calling a taxi number, or by directly entering the taxi at the airport terminals The options for payment via credit/debit card or cash are available and preferred by many taxi drivers\n",
      "Best Answer:\n",
      "You can book a taxi through various ride-hailing apps like Uber and Ola. These apps provide convenient options for booking cabs with upfront pricing and multiple vehicle choices.\n",
      "Best Answer:\n",
      "You can book a taxi through various ride-hailing apps like Uber and Ola. These apps provide convenient options for booking cabs with upfront pricing and multiple vehicle choices.\n",
      "\n"
     ]
    }
   ],
   "metadata": {}
  },
  {
   "cell_type": "code",
   "execution_count": 9,
   "source": [
    "len(ans)"
   ],
   "outputs": [
    {
     "output_type": "execute_result",
     "data": {
      "text/plain": [
       "43"
      ]
     },
     "metadata": {},
     "execution_count": 9
    }
   ],
   "metadata": {}
  },
  {
   "cell_type": "code",
   "execution_count": 12,
   "source": [
    "import json\n",
    "with open('answers.json', 'w') as json_file:\n",
    "    json.dump(ans, json_file)"
   ],
   "outputs": [],
   "metadata": {}
  }
 ],
 "metadata": {
  "orig_nbformat": 4,
  "language_info": {
   "name": "python",
   "version": "3.10.12",
   "mimetype": "text/x-python",
   "codemirror_mode": {
    "name": "ipython",
    "version": 3
   },
   "pygments_lexer": "ipython3",
   "nbconvert_exporter": "python",
   "file_extension": ".py"
  },
  "kernelspec": {
   "name": "python3",
   "display_name": "Python 3.10.12 64-bit ('falconllmenv': venv)"
  },
  "interpreter": {
   "hash": "fbe531172e303b58e4deaed90ac102adfea86e618bd9090930f5ad915745890a"
  }
 },
 "nbformat": 4,
 "nbformat_minor": 2
}