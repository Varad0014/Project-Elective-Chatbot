{
 "cells": [
  {
   "cell_type": "code",
   "execution_count": 1,
   "source": [
    "from sentence_transformers import SentenceTransformer\n",
    "\n",
    "model = SentenceTransformer('all-MiniLM-L12-v2')"
   ],
   "outputs": [
    {
     "output_type": "stream",
     "name": "stderr",
     "text": [
      "/home/varad/snap/snapd-desktop-integration/83/Desktop/Falcon/falconllmenv/lib/python3.10/site-packages/tqdm/auto.py:21: TqdmWarning: IProgress not found. Please update jupyter and ipywidgets. See https://ipywidgets.readthedocs.io/en/stable/user_install.html\n",
      "  from .autonotebook import tqdm as notebook_tqdm\n"
     ]
    }
   ],
   "metadata": {}
  },
  {
   "cell_type": "code",
   "execution_count": null,
   "source": [
    "import json\n",
    "with open('answers.json', 'r') as file:\n",
    "    ans = json.load(file)"
   ],
   "outputs": [],
   "metadata": {}
  },
  {
   "cell_type": "code",
   "execution_count": null,
   "source": [
    "sentences_list = []\n",
    "for i in range(len(ans)):\n",
    "    sentences = []\n",
    "    sentences.append(ans[i]['correct_answer'])\n",
    "    sentences.append(ans[i]['ft_answer'])\n",
    "    sentences.append(ans[i]['ift_answer'])\n",
    "    sentences.append(ans[i]['base_answer'])\n",
    "    sentences_list.append(sentences)\n"
   ],
   "outputs": [],
   "metadata": {}
  },
  {
   "cell_type": "code",
   "execution_count": null,
   "source": [
    "sentences_list"
   ],
   "outputs": [
    {
     "output_type": "execute_result",
     "data": {
      "text/plain": [
       "[[\"The Delhi Metro is a reliable option for traveling during rush hours, as it's not affected by road traffic. Auto-rickshaws and taxis might get stuck in traffic.\",\n",
       "  \"When traveling in Delhi's traffic hours, the most convenient mode of transport is the metro, as it is often the least affected by traffic Auto-rickshaws and taxis may experience congestion, making travel uncomfortable\",\n",
       "  \"For traveling during traffic hours, it's advisable to use public transport options like buses and metro lines These services have fewer delays and you can arrive at your destinations faster\",\n",
       "  'The best mode of transport during traffic hours is the bus.'],\n",
       " ['Popular markets are Sarojini Nagar Market for cloth shoppings, Chandni Chowk for street food and fashion items, Khan Market for boutiques, Khari Baoli for spices and Dilli Haat for handicrafts',\n",
       "  \"Don's Stop is well-known for its exclusive range of designer clothing, while Chandni Chowk is renowned for its variety of products Additionally, Janpath is a more modern market offering a wider selection of trendy items\",\n",
       "  \"Make sure to visit markets like Chandni Chowk, Khan Market, and Connaught Place, which offer a vibrant shopping experience and local delights Don't miss out on the excitement\",\n",
       "  \"I'm going to be in Paris for a few days in the beginning of June. I'm looking for some markets that are worth visiting. I'm not looking for anything too touristy, but I'm not opposed to it either. I'm looking for markets that are more local and less touristy. I'm looking for markets that are more about the food and less about the touristy stuff. I'm looking for markets that are more about the food and\"],\n",
       " [\"You can take the Delhi Metro Airport Express line, which connects Indira Gandhi International Airport to New Delhi Railway Station directly. It's a quick and efficient way to travel between the two.\",\n",
       "  'The Delhi Airport and Railway Station are connected by the Delhi Metro Airport Express line You can transfer to either location with ease by taking the line from the airport to the railway station',\n",
       "  'You can take a train from the airport to the railway station The IRCTC Rail Connect Service operates 24/7',\n",
       "  'The New Delhi Railway Station is located at a distance of 15 km from the Indira Gandhi International Airport. The easiest way to reach the railway station is by taking a taxi. The taxi fare from the airport to the railway station is around INR 400.'],\n",
       " ['You can visit Chandni Chowk, Connaught Place and Lajpat Nagar',\n",
       "  \"Some popular places for street food include Chandni Chowk's Karim's, Paranthe Wali Gali, Khan Chacha's and the food stalls at Connaught Place You can also try out the wide variety of street snacks available at Delhi's markets like Connaught Place's CP Central Market and Delhi Haat\",\n",
       "  \"If you're a fan of Street food, here are some places in Delhi where you can enjoy it: Kyariya Pao, Paranthe Wali Gali, Chandni Chowk, Sarojini Nagar, and Connaught Place These areas are known for their diverse food options, including Street foods\",\n",
       "  \"I'm going to be in London for a few days and I'm looking for some good places to try out street food. I'm not looking for anything fancy, just good food. I'm staying in the city centre, so I'm looking for places that are within walking distance. Any suggestions?\"],\n",
       " ['When getting around Delhi using public transportation, you have several options, including the buses, auto-rickshaw, and metro. The metro is a particularly convenient choice for accessing major city attractions.',\n",
       "  \" Delhi's metro system is the most efficient way to travel around the city The metro stations are well-connected to each other and are located within 2-3 km of each other\",\n",
       "  'The Delhi Metro is a convenient way to travel within the city You can also use auto-rickshaws, buses, and taxis to get around',\n",
       "  'Public transportation is a great way to get around the city. The city has a very extensive bus system, and the subway system is also very extensive. The subway system is very easy to use, and the buses are also very easy to use. The buses are also very cheap, and the subway system is also very cheap.'],\n",
       " ['Indeed, you can explore places like  National Rail Museum, Tughlaqabad Fort, Doll Museum, and  Agrasen ki Baoli for unique and quieter experiences in the city.',\n",
       "  \"Explore Delhi's unconventional attractions, such as the 'Lok Kala Manch' theatre festival, Nehru Planetarium and the National Rail Museum, for a unique experience These attractions offer a more in-depth understanding of the city's culture and history\",\n",
       "  'You might want to consider visiting unconventional attractions like science parks, air force museums, or nature reserves These places offer a different kind of entertainment and provide an opportunity for education and exploration',\n",
       "  'I\\'m not sure if this is unconventional or lesser-known, but I\\'m a big fan of the \"Mystery Spot\" in Santa Cruz, CA. It\\'s a small park with a small museum and a small gift shop. The park is built on a hill, and the museum has a bunch of exhibits about the history of the park and the history of the \"mystery spot\" itself. The gift shop sells a bunch of books about the park'],\n",
       " [\"Absolutely, the Delhi Metro conveniently connects to historical landmarks such as the Red Fort, Qutub Minar, Humayun's Tomb, and cultural hubs like Dilli Haat, allowing tourists to explore these sites easily.\",\n",
       "  'Yes, the Metro provides easy access to historical and cultural sites in Delhi such as Red Fort, Qutub Minar, Delhi Museum, India Gate and  Jama Masjid For more information, visit the Metro website',\n",
       "  'Absolutely, the Metro is a convenient way to access historical and cultural sites Many of these sites have dedicated metro stations',\n",
       "  'Yes, the Metro is a great way to travel to the city’s most popular attractions. The Metro is a fast, convenient and affordable way to travel to the city’s most popular attractions.'],\n",
       " ['When planning your visit to Delhi, be sure to include renowned landmarks such as India Gate, Red Fort, and the Lotus Temple in your must-see list.',\n",
       "  \"Ensure you include iconic Delhi attractions like India Gate and Rajpath, Red Fort, Qutub Minar, Humayun's Tomb, the Lotus Temple and the grand Mughal-era Shahjahanabad during your visit\",\n",
       "  \"Absolutely, consider including tourist attractions like the iconic Red Fort, Qutub Minar, India Gate, Humayun's Tomb, the Lotus Temple and the Taj Mahal-like Jama Masjid Mosque in your customized itinerary to enjoy a comprehensive experience Don't forget to also visit renowned museums like the India Museum and the National Science Museum\",\n",
       "  'I am planning a trip to Delhi in the next few months. I would like to visit the key tourist attractions in Delhi. Could you recommend the key tourist attractions in Delhi that I should include in my itinerary?'],\n",
       " [\"To make the most of your visit to Delhi's attractions, consider planning your trip during the winter season, which usually spans from October to March. The comfortable weather during this time enhances the overall experience.\",\n",
       "  \"Delhi's tourist destinations are optimally enjoyed during the winter season, which generally spans from October to March The months of December and January are particularly pleasant, as the city experiences pleasant weather\",\n",
       "  \"You can enjoy Delhi's tourist destinations better by planning your visit during the winter season, which typically extends from October to March This period offers the most favorable conditions for outdoor exploration\",\n",
       "  'The best time to visit Delhi is from October to March. The weather is pleasant and the city is full of life.'],\n",
       " ['Yes, some areas like Paranthe Wali Gali in Chandni Chowk are known for serving breakfast delicacies like stuffed parathas, making them perfect for a late breakfast or brunch.',\n",
       "  'Yes, areas like Chandni Chowk, Khan Market and Connaught Place are known for their street food options even during the time for brunch or breakfast They serve as ideal spots for a leisurely meal at this time of the day',\n",
       "  'Yes, areas like Connaught Place, Lajpat Nagar and Chandni Chowk have a lively street food scene that are perfect for enjoying breakfast or brunch Some popular dishes to try are egg-based dishes, parathas, and local chaat',\n",
       "  \"I'm looking for a place that is open late (until 3 or 4pm) and serves a variety of food. I'm thinking of places like the food stalls in the markets in Paris, but I'm not sure if there are any in London.\"],\n",
       " [\"Daryaganj's Sunday Book Market is a renowned destination for book enthusiasts, offering an extensive collection of both new and second-hand books, including rare editions and popular titles.\",\n",
       "  \"Book markets in Delhi such as Daryaganj Book Street and Karol Bagh's Book Street are popular for their vast collection of rare and second-hand books, making them ideal spots for avid readers Several bookstores within these markets offer a wide range of literary titles, making them excellent choices for bookworms\",\n",
       "  \"Delhi's markets, including Chandni Chowk, Atlas Mall, and Connaught Place, are renowned for their diverse book offerings, particularly catering to readers looking for a wide range of genres Other popular options include markets like Hauz Khas and Khan Market, both known for their eclectic book culture\",\n",
       "  \"I'm looking for a place to buy books in the following cities:\"],\n",
       " ['Booking an auto-rickshaw in Delhi as a tourist is as easy as stop one down from the street.Additionally, tourists can opt for ride-hailing apps such as Uber..',\n",
       "  \"To book an auto-rickshaw as a tourist in Delhi, you can use the 'Auto-rickshaw Booking' feature in the Uber app Simply enter your destination and tap 'Auto-rickshaw' as the mode of transportation\",\n",
       "  \"You can book an auto-rickshaw by mentioning the word 'taxi' or 'auto' in Hindi or English The drivers usually understand either language\",\n",
       "  'I am planning to visit Delhi in the coming months. I am a tourist and I would like to hire an auto-rickshaw to travel around the city. I have heard that it is not advisable to hire an auto-rickshaw as a tourist. Is this true? If so, what are the alternatives?'],\n",
       " ['Research the attractions you want to visit and group them by proximity. Use the Delhi Metro for longer distances and autos/taxis for shorter ones to maximize your time.',\n",
       "  'Plan an efficient sightseeing itinerary in Delhi by prioritizing landmarks like Parliament House, India Gate, Qutub Minar, Jama Masjid, and the Red Fort, according to the time of day you wish to visit them Choose outdoor activities like walking tours and auto-rickshaw rides for the afternoon',\n",
       "  'Plan your sightseeing activities in Delhi during non-peak hours to avoid crowds and enjoy your own pace Consider researching which attractions have shorter lines and when to arrive',\n",
       "  'I am planning a trip to Delhi for 3 days. I would like to visit the major tourist attractions in Delhi. I would like to know how can I plan an efficient sightseeing itinerary in Delhi?'],\n",
       " ['Yes, you can discover places like Agrasen ki Baoli, Mehrauli Archaeological Park, Shanti Van Tughlaqabad Fort, Doll Museum and the National Rail Museum for distinctive and quieter experiences.',\n",
       "  \"Certainly, consider exploring attractions in Delhi such as 'Lok Kala Manch' (Cultural Center), 'Janpath' (Shopping Street), 'Lal Qila' (Red Fort), and 'Humayun's Tomb' for less crowded experiences and unique cultural experiences For more information, refer to our guide to Delhi's best attractions\",\n",
       "  \"Certainly, consider visiting places like Sultanpur's lake, Shambhu Dham, Shaniwarwada Fort, and the National Rail Museum for unique and less-crowded experiences Don't miss out on the chance to explore these lesser-known gems\",\n",
       "  'I am planning to visit Delhi for 3 days. I am looking for some less-known attractions in Delhi. I am not interested in the usual touristy places. I am looking for some offbeat places.'],\n",
       " ['When embarking on longer journeys within Delhi, it is recommended to choose metro services or taxis.',\n",
       "  \"When traveling longer distances, a well-connected train is often the preferred choice, as it ensures you don't have to rely on transfers For shorter trips, an air-conditioned bus or cab may be more convenient\",\n",
       "  'For longer journeys, the Delhi Metro is often preferred It is a fast and efficient way to travel within the city',\n",
       "  'The preferred means of transportation for longer journeys is the car.'],\n",
       " ['For safe transportation at night within the city, consider using registered taxi services like Uber or Ola. Additionally, you can rely on the safety of the Delhi Metro, which operates between 6 AM and 11 PM.',\n",
       "  'Make sure you travel during the day for safer transportation when traveling at night within the city Moreover, ensure reliable taxis for safer transportation at night',\n",
       "  'To ensure safe transportation at night, consider using public transport or a trusted taxi Make sure to research which metro stations are currently operating and check with the driver before entering',\n",
       "  'The city of San Diego has a number of resources to help you get around safely at night.'],\n",
       " ['Yes, the Delhi Metro boasts excellent connectivity to historical landmarks such as the Red Fort and Qutub Minar, as well as cultural hotspots. This makes it a highly accessible and efficient mode of transportation for tourists wanting to visit these sites.',\n",
       "  \"Absolutely, Delhi Metro offers quick connectivity to historical landmarks and cultural destinations including the Red Fort, Qutub Minar, India Gate, Humayun's Tomb, Jama Masjid, Nehru Planetarium, Nehru Science Centre and the National Rail Museum Additionally, it provides access to modern attractions like the India Gate and Nehru Place\",\n",
       "  \"The Delhi Metro is well-connected to a variety of historical landmarks, heritage sites, and cultural destinations in the city, offering a seamless blend between tradition and modernity Some of the metro's popular routes that cater to tourists include Connaught Place, Khan Market, Red Fort, and Agra Fort\",\n",
       "  'The Delhi Metro is a boon for the city’s residents. It is a fast, efficient and convenient mode of transport that connects the city’s major landmarks and cultural destinations.'],\n",
       " [\"Delhi is famous for its street food and diverse culinary scene. Don't miss trying chaat, kebabs, and Mughlai dishes, Momos, Chole Bhature, Paranthas, Dahi Bhalle.\",\n",
       "  \"Delhi offers a wide variety of cuisine options, including traditional dishes like Dal-chaap, Roti, and Sabzi, as well as modern dishes like pizzas and burgers Be sure to try some of the city's famous street food fares while you're exploring\",\n",
       "  'The local cuisine in the city is a mix of traditional and modern dishes Some popular dishes include biryani, kebabs, and chaat',\n",
       "  'The local cuisine is a mix of traditional and modern. The traditional dishes are based on meat, potatoes, and vegetables. The modern dishes are based on meat, potatoes, and vegetables.'],\n",
       " [\"Delhi's attractions are conveniently accessible through a variety of transportation options, including the extensive Delhi Metro network, public buses, auto-rickshaws, taxis, and car rentals. Most attractions are well-connected within the city.\",\n",
       "  \"To reach Delhi's attractions, you can choose to use the convenient Delhi Metro service or taxis at affordable prices The metro is a fast and efficient option\",\n",
       "  \"To reach Delhi's attractions, you can utilize a variety of transportation options, including the extensive Delhi Metro, public buses, auto-rickshaws, taxis, and car rentals The Metro is particularly convenient, as most attractions have metro stations nearby\",\n",
       "  'The city of Delhi is well connected by road, rail and air. The city has a well-developed road network and is connected to all the major cities of the country. The city has a well-developed rail network and is connected to all the major cities of the country. The city is also connected to all the major cities of the country by air.'],\n",
       " ['Yes, places like Jim Corbett National Park, Sariska Tiger Reserve and Bharatpur Bird Sanctuary,  are within driving distance from Delhi.',\n",
       "  'Yes, you can visit getaways like Jim Corbett National Park, Sariska Tiger Reserve and Bharatpur Bird Sanctuary for wildlife and nature retreats from the city Many Delhi tourists visit these wildlife getaways for wildlife safaris and nature experiences',\n",
       "  'Yes, you can visit wildlife getaways like Jim Corbett National Park and Sariska Tiger Reserve, both located within driving distance from Delhi, for wildlife exploration Consider booking a day trip to experience the natural beauty of these parks',\n",
       "  'There are many wildlife getaways near Delhi. The best wildlife getaways near Delhi are Jim Corbett National Park, Kanha National Park, Bandhavgarh National Park, Ranthambore National Park, and Sariska National Park.'],\n",
       " ['You have several nearby options for a weekend break from Delhi, including hill stations like Shimla, Manali, Mussoorie, Kasaulo, and Nainital, each offering a refreshing getaway.',\n",
       "  \"If you're looking for 2-3 days hill stations near Delhi, then consider exploring destinations like Manali, Mussoorie, Ranikhet and Nainital for a memorable experience\",\n",
       "  \"If you're looking for nearby hill stations to visit for 2-3 days, consider these options: 1 Dharamshala2\",\n",
       "  'I am planning a trip to the hills for 2-3 days. I am looking for a place that is not too far from Delhi. I am looking for a place that is not too far from Delhi. I am looking for a place that is not too far from Delhi. I am looking for a place that is not too far from Delhi. I am looking for a place that is not too far from Delhi. I am looking for a place that is not too far from Delhi.'],\n",
       " ['To book an auto-rickshaw, you can simply flag one down from the street. Negotiate the fare before starting the ride, and consider using ride-hailing apps like Ola and Uber for a more standardized experience.',\n",
       "  \"To book an auto-rickshaw in Delhi, download the 'Bhavini' app Select 'Auto' under the 'Rickshaw' tab\",\n",
       "  'You can book an auto-rickshaw either through the driver, which is recommended for convenience, or via mobile apps like Ola or Uber Make sure to have the app installed and activated on your device',\n",
       "  'The process for booking an auto-rickshaw in Delhi is simple. You can either book an auto-rickshaw online or offline.'],\n",
       " [\"Certainly, the Delhi Metro provides a practical and efficient means of reaching historical landmarks. It's a convenient option for tourists looking to explore these sites hassle-free.\",\n",
       "  'Yes, the Metro can be a practical choice for accessing historical and cultural sites, as stations frequently located within walking distance of attractions Delhi offers an integrated Metro station locator app that provides real-time metro information',\n",
       "  'Absolutely, the Metro provides access to numerous historical and cultural sites in Delhi Many of these sites have historical significance and are worth exploring',\n",
       "  'The Metro is a practical choice for accessing historical and cultural sites.'],\n",
       " [\"Don't miss out on trying iconic dishes from Delhi's local culinary scene, including Butter Chicken, Chole Bhature, Paratha, and a diverse selection of kebabs.\",\n",
       "  \"Certainly, Delhi's local culinary scene boasts iconic dishes like Makki di Roti (flatbread made with whole wheat flour), Aloo Tikki, Chole Bhature, Dahi Bhalla and Lassi I recommend trying these iconic dishes for a delicious dining experience\",\n",
       "  'Certainly, try the classic kebabs, jalebi, dhokla, chole bhature, aloo puri, and a variety of biryanis The diversity in terms of taste and flavors make it a rewarding experience to explore the distinct flavors of Indian cuisine',\n",
       "  \"I'm a big fan of the street food scene in Delhi. The best way to experience it is to go to a market and find a place to sit down. I love the chaat (snacks) at the Chandni Chowk market, and the paranthas (flatbreads) at the Paranthewali Gali market.\"],\n",
       " ['To explore Delhi using public transportation, consider the available options such as the extensive metro network, taxis, auto-rickshaw and buses.',\n",
       "  \"Using Delhi's well-developed metro system and buses is the most convenient way to explore the city Many major attractions have dedicated metro stations for easy access\",\n",
       "  \"To explore the city, we recommend you download the Delhi Metro App, which makes navigation seamless Also, consider using Auto-rickshaws or the app 'Ola' for faster travel during peak hours\",\n",
       "  \"I'm planning a trip to Chicago in the fall and I'm trying to figure out the best way to get around the city. I'm not sure if I should buy a pass for the CTA or just buy individual tickets. I'm also not sure if I should buy a pass for the Metra or just buy individual tickets. I'm also not sure if I should buy a pass for the CTA or just buy individual tickets. I'm also not sure if I\"],\n",
       " ['Auto-rickshaws, metro, buses and cabs are readily available for access. The most popular choice is the Delhi Metro, which is equipped with dedicated stations for these markets.',\n",
       "  \"To visit Delhi's famous markets, the Delhi Metro is a convenient option Taxis and auto-rickshaws may lead to traffic jams\",\n",
       "  \"Delhi's markets are easily accessible by tourists, as many of them offer convenient transportation services, ensuring a seamless visit Many markets have their own metro stations, which provides a fast and efficient way to reach them\",\n",
       "  'Delhi is a city of markets. The markets of Delhi are famous for their variety and quality. The markets of Delhi are also famous for their variety and quality. The markets of Delhi are also famous for their variety and quality. The markets of Delhi are also famous for their variety and quality. The markets of Delhi are also famous for their variety and quality. The markets of Delhi are also famous for their variety and quality. The markets of Delhi are also famous for their variety and quality. The'],\n",
       " [\"Yes, markets like Delhi Haat and Crafts Museum offer a wide range of handicrafts, textiles, and home decor items that showcase India's craftsmanship.\",\n",
       "  'Yes, markets like Dilli Haat, Nehru Palace, and Kamla Nagar have a wide variety of handicrafts, home decor items, and cultural performances These markets are ideal for purchasing unique souvenirs and enjoying cultural performances',\n",
       "  'Yes, many markets in Delhi include options for handicrafts, home decor items, and souvenirs For example, the Janpath Market and Sarojini Nagar market offer a wide range of handicrafts and home decor items',\n",
       "  'Yes, there are markets with a selection of handicrafts and home decor items.'],\n",
       " [\"For a comfortable and enjoyable visit to Delhi's tourist spots, consider the winter season, which typically occurs from October to March.\",\n",
       "  \"You can enjoy comfortable weather at Delhi's tourist spots during the winter season, which typically spans from October to March The months of December, January and February are when the city is at its most pleasant\",\n",
       "  \"For comfortable weather, it's recommended to visit Delhi's tourist spots during the winter season, typically occurring from October to March\",\n",
       "  'I am planning to visit Delhi in the month of March. I am not sure if it is a good time to visit Delhi. I am planning to visit the tourist spots in Delhi. I am not sure if it is a good time to visit Delhi. I am planning to visit the tourist spots in Delhi. I am not sure if it is a good time to visit Delhi.'],\n",
       " [\"Tourists can choose from a 'Tourist Card' offering unlimited travel for a certain number of days, or a 'Stored Value Card' (Smart Card) that can be recharged for multiple rides.\",\n",
       "  'Tourists have the option to purchase a metro card that can be used for all travel within a specific day Known as a \"One Day Pass,\" a \"Tourist Card\" provides unlimited travel within a specified time frame',\n",
       "  \"Tourists can purchase a 'Tours' card, which allows multiple entries within a specific time, and a 'Single' card for one entry It's a great way to explore multiple attractions\",\n",
       "  'The New York City MetroCard is a smart card fare payment system used by the New York City Subway, Staten Island Railway, and the New York City Bus. It is also used by the Long Island Rail Road, Metro-North Railroad, and the Staten Island Ferry.'],\n",
       " ['Janpath Market and Delhi Haat are widely recognized markets where you can find an extensive range of traditional handicrafts and jewellery.',\n",
       "  'To explore a diverse range of handicrafts and jewellery, markets like Chandni Chowk and Karol Bagh are renowned Known for their offerings, Delhi boasts a variety of markets that offer an array of handicrafts and jewellery',\n",
       "  'While exploring markets like Chandni Chowk, Kinari Bazar, and Sarojini Nagar for fashion items, consider visiting stores that specialize in handcrafted products This includes shops that focus on jewellery and handicrafts like Maa Chaudhary Jewellers, Shoppers Stop, and Shimmer',\n",
       "  'The markets in Delhi are renowned for offering a selection of handicrafts and jewellery. The markets in Delhi are renowned for offering a selection of handicrafts and jewellery. The markets in Delhi are renowned for offering a selection of handicrafts and jewellery. The markets in Delhi are renowned for offering a selection of handicrafts and jewellery.'],\n",
       " ['Tourists can easily find auto-rickshaws near popular areas and tourist spots in Delhi, including Connaught Place, India Gate, and major metro stations.',\n",
       "  'Delhi offers extensive transportation options including auto-rickshaws, buses, and the recently launched Metro Most tourist spots have a dedicated lane for auto-rickshaws, making it easy for passengers to find and board the vehicle',\n",
       "  \"Popular tourist spots or areas in Delhi that can be easily reached by auto-rickshaws include the Red Fort, Qutub Minar, India Gate, Humayun's Tomb, and the Lotus Temple These places are easily accessible by auto-rickshaws, making them ideal for tourists looking to explore these historic or cultural sites\",\n",
       "  'Auto-rickshaws are the most popular mode of transport in Delhi. They are available in all parts of the city. The auto-rickshaws are available in all parts of the city. The auto-rickshaws are available in all parts of the city. The auto-rickshaws are available in all parts of the city. The auto-rickshaws are available in all parts of the city.'],\n",
       " [\"Yes, attractions like Dilli Haat and Kingdom of Dreams offer cultural performances, traditional crafts, and entertainment options that showcase Delhi's diverse culture.\",\n",
       "  \"Yes, attractions like Nehru Planetarium, Nehru Memorial Museum, and National School of Drama offer cultural performances and events They are popular choices for experiencing Delhi's culture and arts\",\n",
       "  'Yes, attractions like the India Gate and Nehru Park, both located in New Delhi, offer cultural performances and events for visitors to enjoy Many occasions like Diwali and Holi are celebrated here with great enthusiasm',\n",
       "  'Answers from Our Experts (1)'],\n",
       " ['You can pay for cab rides using cash, digital wallets, or linked credit/debit cards through the respective cab service apps. Most drivers prefer digital payments for convenience.',\n",
       "  'You can pay for cab rides using cash, available payment options like credit or debit cards, or the mobile app Ola Most drivers are familiar with popular routes like Delhi Airport and Delhi Downtown',\n",
       "  'You can pay for cab rides using digital payment methods such as Google Pay, Apple Pay, or cash Many drivers accept digital payments, but you can also pay using card',\n",
       "  'You can pay for your cab rides with cash, credit card, or debit card.'],\n",
       " ['Yes, the Airport Express line has a separate fare structure. You can use your Smart Card, Token, or other payment methods to travel on this line, but the fare may be different from other lines.',\n",
       "  \"Yes, there is a separate fare for using the Airport Express line Passengers traveling from Delhi's Indira Gandhi International Airport to the airport's dedicated terminal (Terminal 3) using the Airport Express line are required to pay a supplementary fare in addition to the regular fare for the same journey\",\n",
       "  'Yes, the fare for using the Airport Express line includes a separate fare In Delhi, the fare for one-stop trips on the Airport Express line is Rs',\n",
       "  'Yes, there is a separate fare for using the Airport Express line.'],\n",
       " [\"Delhi's Indira Gandhi International Airport is well-connected to the Delhi Metro. You can access the metro station directly from Terminal 3, and there are shuttle services connecting Terminals 1 and 2 to the metro station.\",\n",
       "  'The airport terminal is connected to the Delhi Metro Red Line at Terminal 1 and Terminal 3 Use the metro for rapid access to the city',\n",
       "  'You can take the Metro from the airport to your destination The stations INCLUDE Terminal 1 and 2, and you can access them by taking the airport shuttle or by metro',\n",
       "  'The airport is connected to the Delhi Metro by the Airport Express Line. The Airport Express Line is a 23 km long underground metro line that connects the airport to the New Delhi railway station. The Airport Express Line is the fastest way to reach the city from the airport. The Airport Express Line runs every 15 minutes and takes 30 minutes to reach the New Delhi railway station.'],\n",
       " [\"For tourists in Delhi, there are two primary choices for metro cards: the 'Tourist Card,' which offers unlimited travel for a set duration, and the 'Stored Value Card' (Smart Card), ideal for multiple rides and easy top-ups.\",\n",
       "  'Tourists have the option of purchasing a single-journey ticket or a multi-journey card that provides multiple trips within a specified time frame The multi-journey card is often more cost-effective',\n",
       "  'Tourists can purchase single-use cards that accommodate up to 3 rides, daily cards for 1, 3, 5, 7 days, and public transit cards that accommodate 1, 2, 3 days Travelers can choose the appropriate card depending on their intended usage',\n",
       "  'The New York City subway system is one of the most extensive in the world. It is also one of the most expensive.'],\n",
       " ['The best time to visit Delhi is from October to March when the weather is pleasant and suitable for exploring outside.',\n",
       "  \"On your Delhi tour, the best time to visit depends on what you're looking for For outdoor activities and historical sites, November to March is ideal\",\n",
       "  'Delhi experiences a hot and humid summer season from March to October, with peak temperatures typically occurring between  October-February To enjoy your visits, consider scheduling your activities for early mornings or late afternoons',\n",
       "  'The best time to visit Delhi is from October to March. The weather is pleasant and the city is not too crowded.'],\n",
       " ['For a comfortable experience during hot weather in Delhi, opt for air-conditioned transportation options such as taxis and metro services. You can also opt for some air conditioned buses.',\n",
       "  \"To experience a comfortable summer while traveling in Delhi, it's advisable to opt for air-conditioned transportation options like taxis, rideshares, and the Metro Further recommendations include wearing light clothing, staying hydrated, and avoiding direct sunlight\",\n",
       "  'To experience a comfortable summer in Delhi, choose air-conditioned buses, metro stations, and taxis Avoid non-airconditioned trains and autos',\n",
       "  'The summer season in Delhi is a time when the temperature rises to 45 degrees Celsius. The scorching heat of the sun makes it difficult for people to travel. The best way to travel during this time is to use the air-conditioned metro. The metro is the most comfortable and convenient way to travel in Delhi.'],\n",
       " ['You can easily find auto-rickshaws on the streets. Make sure the driver agrees to use the meter or negotiate the fare before starting the journey.',\n",
       "  'You can hail an auto-rickshaw on the street or use taxi apps like Ola and Uber Most drivers have the app on their phone for easy payment',\n",
       "  'Hiring an auto-rickshaw is as easy as downloading a transportation app Many auto-rickshaw drivers use mobile payment options like Paytm or Google Pay',\n",
       "  'You can hire an auto-rickshaw by calling the auto-rickshaw driver or by using the auto-rickshaw booking app.'],\n",
       " ['Minimize crowds and enhance your experience at renowned Delhi attractions by planning your visits early in the morning, right after they open, or by choosing weekdays for your outings.',\n",
       "  \"To enjoy serene experiences at popular attractions like Delhi Zoo and Nehru Planetarium, it's often beneficial to visit during the morning or early evening hours Additionally considering the large number of visitors, exploring lesser-known attractions can provide a more peaceful experience\",\n",
       "  \"To minimize crowds and have a peaceful visit, consider visiting the attraction early in the morning when it's less crowded, choosing alternative less popular routes, and avoiding peak hours Make an advance booking of the attraction to secure a convenient location\",\n",
       "  \"I'm going to be in Paris for 3 days in mid-May. I'm staying in the 6th arrondissement. I'm planning to visit the Louvre, the Musee d'Orsay, and the Musee de l'Orangerie. I'm also planning to visit the Musee d'Orsay on a Sunday. I'm wondering if I should go to the Louvre on a Sunday or a weekday. I\"],\n",
       " [\"To beat the crowds and fully enjoy Delhi's popular attractions, plan your visits for the early morning when they open or opt for weekday excursions.\",\n",
       "  \"To fully enjoy Delhi's popular attractions, it's best to plan your visit during off-peak hours, or during weekdays when crowds are minimal Avoid visiting during or during holidays and weekends when traffic and visitor volume is high\",\n",
       "  \"To beat crowds and fully enjoy Delhi's popular attractions, consider visiting them early in the morning just after they open, avoiding peak hours Avoid weekends when crowds are denser\",\n",
       "  \"The best way to beat the crowds and fully enjoy Delhi's popular attractions is to hire a private guide.\"],\n",
       " [\"To ensure reliability while traveling during busy rush hours in Delhi, it's advisable to choose the Delhi Metro.\",\n",
       "  'For traveling in city during busy rush hours, the most reliable mode of transportation is the metro, as it operates at its fullest efficiency during peak hours Auto-rickshaws and taxis may experience traffic congestion',\n",
       "  'In city centers, the metro systems are generally reliable and efficient However, when traveling to specific destinations, taxis or auto-rickshaws are a viable option',\n",
       "  '- Car'],\n",
       " ['You can book a taxi through various ride-hailing apps like Uber and Ola. These apps provide convenient options for booking cabs with upfront pricing and multiple vehicle choices.',\n",
       "  \"You can book a taxi using mobile apps like 'Ola' and 'Uber' These apps provide the convenience of paying for the ride and tracking the cab's location\",\n",
       "  'You can book a taxi either through a mobile app, by calling a taxi number, or by directly entering the taxi at the airport terminals The options for payment via credit/debit card or cash are available and preferred by many taxi drivers',\n",
       "  'You can book a taxi by calling +44 (0) 20 7060 7060 or by using the online booking form.']]"
      ]
     },
     "metadata": {},
     "execution_count": 4
    }
   ],
   "metadata": {}
  },
  {
   "cell_type": "code",
   "execution_count": null,
   "source": [
    "from sklearn.metrics.pairwise import cosine_similarity\n",
    "similarities = []\n",
    "for i in range(len(sentences_list)):\n",
    "    sentence_embeddings = model.encode(sentences_list[i])\n",
    "    similarity = cosine_similarity([sentence_embeddings[0]], sentence_embeddings[1:])\n",
    "    similarities.append(similarity.flatten())\n"
   ],
   "outputs": [],
   "metadata": {}
  },
  {
   "cell_type": "code",
   "execution_count": null,
   "source": [
    "import numpy\n",
    "similarities = numpy.array(similarities)"
   ],
   "outputs": [],
   "metadata": {}
  },
  {
   "cell_type": "code",
   "execution_count": null,
   "source": [
    "similarities"
   ],
   "outputs": [
    {
     "output_type": "execute_result",
     "data": {
      "text/plain": [
       "array([[ 0.846058  ,  0.58050036,  0.46431124],\n",
       "       [ 0.42159167,  0.6845354 ,  0.41314605],\n",
       "       [ 0.7912345 ,  0.40939736,  0.83443236],\n",
       "       [ 0.666824  ,  0.6511464 ,  0.32763985],\n",
       "       [ 0.8068199 ,  0.94504535,  0.5554409 ],\n",
       "       [ 0.6062903 ,  0.36679155,  0.36888796],\n",
       "       [ 0.867943  ,  0.6873451 ,  0.60801274],\n",
       "       [ 0.7809559 ,  0.6386416 ,  0.6569458 ],\n",
       "       [ 0.8920389 ,  0.9060925 ,  0.78523874],\n",
       "       [ 0.60482496,  0.5807338 ,  0.30907357],\n",
       "       [ 0.74025   ,  0.6114042 ,  0.49864066],\n",
       "       [ 0.9181361 ,  0.7137567 ,  0.8010462 ],\n",
       "       [ 0.77121246,  0.8377351 ,  0.7100405 ],\n",
       "       [ 0.6064986 ,  0.65792763,  0.4595296 ],\n",
       "       [ 0.51555717,  0.82378006,  0.4808091 ],\n",
       "       [ 0.6905051 ,  0.7547805 ,  0.46216375],\n",
       "       [ 0.87586224,  0.8139832 ,  0.7831688 ],\n",
       "       [ 0.8425934 ,  0.61447287,  0.43947482],\n",
       "       [ 0.8219042 ,  0.9557336 ,  0.7666843 ],\n",
       "       [ 0.8096426 ,  0.81742966,  0.7350354 ],\n",
       "       [ 0.78410596,  0.5810092 ,  0.57407403],\n",
       "       [ 0.7005374 ,  0.9108243 ,  0.680061  ],\n",
       "       [ 0.83478224,  0.8423609 ,  0.6729611 ],\n",
       "       [ 0.65409255,  0.64942765,  0.615216  ],\n",
       "       [ 0.79535973,  0.77495897,  0.32817066],\n",
       "       [ 0.82157904,  0.7684319 ,  0.5613113 ],\n",
       "       [ 0.75660396,  0.78665113,  0.6691921 ],\n",
       "       [ 0.9286039 ,  0.9148515 ,  0.5891097 ],\n",
       "       [ 0.69195074,  0.69494647,  0.39699203],\n",
       "       [ 0.69198   ,  0.60022193,  0.59941775],\n",
       "       [ 0.770846  ,  0.83995414,  0.7756223 ],\n",
       "       [ 0.7038156 ,  0.6310792 , -0.03319722],\n",
       "       [ 0.74562055,  0.92236125,  0.88980067],\n",
       "       [ 0.6327429 ,  0.61262226,  0.8565749 ],\n",
       "       [ 0.8225635 ,  0.6270213 ,  0.67697126],\n",
       "       [ 0.58716744,  0.53865826,  0.23833561],\n",
       "       [ 0.8719678 ,  0.83847004,  0.9797969 ],\n",
       "       [ 0.8465368 ,  0.85096693,  0.8246443 ],\n",
       "       [ 0.7152575 ,  0.71247774,  0.7284759 ],\n",
       "       [ 0.72623014,  0.70412767,  0.3767396 ],\n",
       "       [ 0.79378396,  0.8894489 ,  0.5855968 ],\n",
       "       [ 0.6894563 ,  0.5800315 ,  0.03868412],\n",
       "       [ 0.8994373 ,  0.63749856,  0.63619876]], dtype=float32)"
      ]
     },
     "metadata": {},
     "execution_count": 7
    }
   ],
   "metadata": {}
  },
  {
   "cell_type": "code",
   "execution_count": null,
   "source": [
    "similarities.mean(axis=0)"
   ],
   "outputs": [
    {
     "output_type": "execute_result",
     "data": {
      "text/plain": [
       "array([0.752134 , 0.7199916, 0.5748947], dtype=float32)"
      ]
     },
     "metadata": {},
     "execution_count": 8
    }
   ],
   "metadata": {}
  }
 ],
 "metadata": {
  "orig_nbformat": 4,
  "language_info": {
   "name": "python",
   "version": "3.10.12",
   "mimetype": "text/x-python",
   "codemirror_mode": {
    "name": "ipython",
    "version": 3
   },
   "pygments_lexer": "ipython3",
   "nbconvert_exporter": "python",
   "file_extension": ".py"
  },
  "kernelspec": {
   "name": "python3",
   "display_name": "Python 3.10.12 64-bit ('falconllmenv': venv)"
  },
  "interpreter": {
   "hash": "fbe531172e303b58e4deaed90ac102adfea86e618bd9090930f5ad915745890a"
  }
 },
 "nbformat": 4,
 "nbformat_minor": 2
}