{
 "cells": [
  {
   "cell_type": "code",
   "execution_count": 1,
   "source": [
    "from transformers import AutoTokenizer, AutoModelForCausalLM, BitsAndBytesConfig\n",
    "import transformers\n",
    "import torch\n",
    "from torch.utils.data import DataLoader, Dataset"
   ],
   "outputs": [
    {
     "output_type": "stream",
     "name": "stderr",
     "text": [
      "/home/varad/snap/snapd-desktop-integration/83/Desktop/Falcon/falconllmenv/lib/python3.10/site-packages/tqdm/auto.py:21: TqdmWarning: IProgress not found. Please update jupyter and ipywidgets. See https://ipywidgets.readthedocs.io/en/stable/user_install.html\n",
      "  from .autonotebook import tqdm as notebook_tqdm\n"
     ]
    }
   ],
   "metadata": {}
  },
  {
   "cell_type": "code",
   "execution_count": 2,
   "source": [
    "model_name =  \"tiiuae/falcon-7b\"\n",
    "tokenizer = AutoTokenizer.from_pretrained(model_name)\n",
    "tokenizer.pad_token = tokenizer.eos_token\n",
    "base_model = AutoModelForCausalLM.from_pretrained(model_name, device_map=\"auto\", trust_remote_code=True)"
   ],
   "outputs": [
    {
     "output_type": "stream",
     "name": "stderr",
     "text": [
      "Loading checkpoint shards: 100%|██████████| 2/2 [00:14<00:00,  7.28s/it]\n"
     ]
    }
   ],
   "metadata": {}
  },
  {
   "cell_type": "code",
   "execution_count": 3,
   "source": [
    "from peft import PeftModel\n",
    "\n",
    "# load perf model with new adapters\n",
    "ft_model = PeftModel.from_pretrained(\n",
    "    base_model,\n",
    "    \"outputs\",\n",
    ")\n",
    "ft_model = ft_model.merge_and_unload()"
   ],
   "outputs": [],
   "metadata": {}
  },
  {
   "cell_type": "code",
   "execution_count": 4,
   "source": [
    "def generate_using_string(example_text):\n",
    "\n",
    "\n",
    "  print(\"Question:\")\n",
    "  print(example_text)\n",
    "\n",
    "  encoding = tokenizer(example_text, return_tensors=\"pt\").to(\"cuda:0\")\n",
    "  output = ft_model.generate(input_ids=encoding.input_ids, attention_mask=encoding.attention_mask, max_new_tokens=100, do_sample=True, temperature=0.000001, eos_token_id=tokenizer.eos_token_id, top_k = 5)\n",
    "\n",
    "  print(\"Answer:\")\n",
    "  answer = tokenizer.decode(output[0], skip_special_tokens=True)\n",
    "  answer = answer.splitlines()[1]\n",
    "  answer = answer.split('.')[0] + answer.split('.')[1]\n",
    "\n",
    "  \n",
    "  print(answer)\n",
    "  \n",
    "  print()"
   ],
   "outputs": [],
   "metadata": {}
  },
  {
   "cell_type": "code",
   "execution_count": 5,
   "source": [
    "from datasets import load_dataset\n",
    "\n",
    "data = load_dataset(\"json\", data_files=\"../Dataset/data_test.json\")\n"
   ],
   "outputs": [],
   "metadata": {}
  },
  {
   "cell_type": "code",
   "execution_count": 6,
   "source": [
    "len(data['train'])"
   ],
   "outputs": [
    {
     "output_type": "execute_result",
     "data": {
      "text/plain": [
       "43"
      ]
     },
     "metadata": {},
     "execution_count": 6
    }
   ],
   "metadata": {}
  },
  {
   "cell_type": "code",
   "execution_count": 7,
   "source": [
    "ans = []"
   ],
   "outputs": [],
   "metadata": {}
  },
  {
   "cell_type": "code",
   "execution_count": 8,
   "source": [
    "def ft_generate(index):\n",
    "\n",
    "  example_text = data['train'][index]['question']\n",
    "  correct_answer = data['train'][index]['answer']\n",
    "\n",
    "  print(\"Question:\")\n",
    "  print(example_text)\n",
    "\n",
    "  encoding = tokenizer(example_text, return_tensors=\"pt\").to(\"cuda:0\")\n",
    "  output = ft_model.generate(input_ids=encoding.input_ids, attention_mask=encoding.attention_mask, max_new_tokens=100, do_sample=True, temperature=0.000001, eos_token_id=tokenizer.eos_token_id, top_k = 0)\n",
    "  print(\"Answer Fine Tuned:\")\n",
    "  answer = tokenizer.decode(output[0], skip_special_tokens=True)\n",
    "  answer = answer.split('\\n')[1]\n",
    "  answer = answer.split('.')\n",
    "  if(len(answer) >= 2):\n",
    "    answer = answer[0] + answer[1]\n",
    "  else:\n",
    "    answer = answer[0]\n",
    "  print(answer)\n",
    "\n",
    "  \n",
    "  \n",
    "  print(\"Best Answer:\")\n",
    "  print(correct_answer)\n",
    "\n",
    "  answer_pair = {\n",
    "    \"question\": example_text,\n",
    "    \"ft_answer\": answer,\n",
    "    \"correct_answer\": correct_answer \n",
    "  }\n",
    "  ans.append(answer_pair)\n",
    "\n",
    "  print()"
   ],
   "outputs": [],
   "metadata": {}
  },
  {
   "cell_type": "code",
   "execution_count": 9,
   "source": [
    "for i in range(43):\n",
    "    ft_generate(i)\n"
   ],
   "outputs": [
    {
     "output_type": "stream",
     "name": "stderr",
     "text": [
      "/home/varad/snap/snapd-desktop-integration/83/Desktop/Falcon/falconllmenv/lib/python3.10/site-packages/transformers/generation/utils.py:1411: UserWarning: You have modified the pretrained model configuration to control generation. This is a deprecated strategy to control generation and will be removed soon, in a future version. Please use a generation configuration file (see https://huggingface.co/docs/transformers/main_classes/text_generation )\n",
      "  warnings.warn(\n",
      "Setting `pad_token_id` to `eos_token_id`:11 for open-end generation.\n"
     ]
    },
    {
     "output_type": "stream",
     "name": "stdout",
     "text": [
      "Question:\n",
      "Which mode of transport is advisable for traveling during traffic hours?\n"
     ]
    },
    {
     "output_type": "stream",
     "name": "stderr",
     "text": [
      "Setting `pad_token_id` to `eos_token_id`:11 for open-end generation.\n"
     ]
    },
    {
     "output_type": "stream",
     "name": "stdout",
     "text": [
      "Answer Fine Tuned:\n",
      "When traveling in Delhi's traffic hours, the most convenient mode of transport is the metro, as it is often the least affected by traffic Auto-rickshaws and taxis may experience congestion, making travel uncomfortable\n",
      "Best Answer:\n",
      "The Delhi Metro is a reliable option for traveling during rush hours, as it's not affected by road traffic. Auto-rickshaws and taxis might get stuck in traffic.\n",
      "\n",
      "Question:\n",
      "What are a few well-known markets worth visiting?\n"
     ]
    },
    {
     "output_type": "stream",
     "name": "stderr",
     "text": [
      "Setting `pad_token_id` to `eos_token_id`:11 for open-end generation.\n"
     ]
    },
    {
     "output_type": "stream",
     "name": "stdout",
     "text": [
      "Answer Fine Tuned:\n",
      "Don's Stop is well-known for its exclusive range of designer clothing, while Chandni Chowk is renowned for its variety of products Additionally, Janpath is a more modern market offering a wider selection of trendy items\n",
      "Best Answer:\n",
      "Popular markets are Sarojini Nagar Market for cloth shoppings, Chandni Chowk for street food and fashion items, Khan Market for boutiques, Khari Baoli for spices and Dilli Haat for handicrafts\n",
      "\n",
      "Question:\n",
      "How can I reach the New Delhi Railway Station from the airport?\n"
     ]
    },
    {
     "output_type": "stream",
     "name": "stderr",
     "text": [
      "Setting `pad_token_id` to `eos_token_id`:11 for open-end generation.\n"
     ]
    },
    {
     "output_type": "stream",
     "name": "stdout",
     "text": [
      "Answer Fine Tuned:\n",
      "The Delhi Airport and Railway Station are connected by the Delhi Metro Airport Express line You can transfer to either location with ease by taking the line from the airport to the railway station\n",
      "Best Answer:\n",
      "You can take the Delhi Metro Airport Express line, which connects Indira Gandhi International Airport to New Delhi Railway Station directly. It's a quick and efficient way to travel between the two.\n",
      "\n",
      "Question:\n",
      "Which places can I go to try out Street food\n"
     ]
    },
    {
     "output_type": "stream",
     "name": "stderr",
     "text": [
      "Setting `pad_token_id` to `eos_token_id`:11 for open-end generation.\n"
     ]
    },
    {
     "output_type": "stream",
     "name": "stdout",
     "text": [
      "Answer Fine Tuned:\n",
      "Some popular places for street food include Chandni Chowk's Karim's, Paranthe Wali Gali, Khan Chacha's and the food stalls at Connaught Place You can also try out the wide variety of street snacks available at Delhi's markets like Connaught Place's CP Central Market and Delhi Haat\n",
      "Best Answer:\n",
      "You can visit Chandni Chowk, Connaught Place and Lajpat Nagar\n",
      "\n",
      "Question:\n",
      "How should I go about using public transportation to get around the city?\n"
     ]
    },
    {
     "output_type": "stream",
     "name": "stderr",
     "text": [
      "Setting `pad_token_id` to `eos_token_id`:11 for open-end generation.\n"
     ]
    },
    {
     "output_type": "stream",
     "name": "stdout",
     "text": [
      "Answer Fine Tuned:\n",
      " Delhi's metro system is the most efficient way to travel around the city The metro stations are well-connected to each other and are located within 2-3 km of each other\n",
      "Best Answer:\n",
      "When getting around Delhi using public transportation, you have several options, including the buses, auto-rickshaw, and metro. The metro is a particularly convenient choice for accessing major city attractions.\n",
      "\n",
      "Question:\n",
      "What are some unconventional or lesser-known attractions that are worth a visit?\n"
     ]
    },
    {
     "output_type": "stream",
     "name": "stderr",
     "text": [
      "Setting `pad_token_id` to `eos_token_id`:11 for open-end generation.\n"
     ]
    },
    {
     "output_type": "stream",
     "name": "stdout",
     "text": [
      "Answer Fine Tuned:\n",
      "Explore Delhi's unconventional attractions, such as the 'Lok Kala Manch' theatre festival, Nehru Planetarium and the National Rail Museum, for a unique experience These attractions offer a more in-depth understanding of the city's culture and history\n",
      "Best Answer:\n",
      "Indeed, you can explore places like  National Rail Museum, Tughlaqabad Fort, Doll Museum, and  Agrasen ki Baoli for unique and quieter experiences in the city.\n",
      "\n",
      "Question:\n",
      "Can I use the Metro to travel to historical and cultural sites?\n"
     ]
    },
    {
     "output_type": "stream",
     "name": "stderr",
     "text": [
      "Setting `pad_token_id` to `eos_token_id`:11 for open-end generation.\n"
     ]
    },
    {
     "output_type": "stream",
     "name": "stdout",
     "text": [
      "Answer Fine Tuned:\n",
      "Yes, the Metro provides easy access to historical and cultural sites in Delhi such as Red Fort, Qutub Minar, Delhi Museum, India Gate and  Jama Masjid For more information, visit the Metro website\n",
      "Best Answer:\n",
      "Absolutely, the Delhi Metro conveniently connects to historical landmarks such as the Red Fort, Qutub Minar, Humayun's Tomb, and cultural hubs like Dilli Haat, allowing tourists to explore these sites easily.\n",
      "\n",
      "Question:\n",
      "Could you recommend the key tourist attractions in Delhi that I should include in my itinerary?\n"
     ]
    },
    {
     "output_type": "stream",
     "name": "stderr",
     "text": [
      "Setting `pad_token_id` to `eos_token_id`:11 for open-end generation.\n"
     ]
    },
    {
     "output_type": "stream",
     "name": "stdout",
     "text": [
      "Answer Fine Tuned:\n",
      "Ensure you include iconic Delhi attractions like India Gate and Rajpath, Red Fort, Qutub Minar, Humayun's Tomb, the Lotus Temple and the grand Mughal-era Shahjahanabad during your visit\n",
      "Best Answer:\n",
      "When planning your visit to Delhi, be sure to include renowned landmarks such as India Gate, Red Fort, and the Lotus Temple in your must-see list.\n",
      "\n",
      "Question:\n",
      "When is the prime season to enjoy Delhi's tourist destinations?\n"
     ]
    },
    {
     "output_type": "stream",
     "name": "stderr",
     "text": [
      "Setting `pad_token_id` to `eos_token_id`:11 for open-end generation.\n"
     ]
    },
    {
     "output_type": "stream",
     "name": "stdout",
     "text": [
      "Answer Fine Tuned:\n",
      "Delhi's tourist destinations are optimally enjoyed during the winter season, which generally spans from October to March The months of December and January are particularly pleasant, as the city experiences pleasant weather\n",
      "Best Answer:\n",
      "To make the most of your visit to Delhi's attractions, consider planning your trip during the winter season, which usually spans from October to March. The comfortable weather during this time enhances the overall experience.\n",
      "\n",
      "Question:\n",
      "Are there street food areas that are popular for late breakfast or brunch?\n"
     ]
    },
    {
     "output_type": "stream",
     "name": "stderr",
     "text": [
      "Setting `pad_token_id` to `eos_token_id`:11 for open-end generation.\n"
     ]
    },
    {
     "output_type": "stream",
     "name": "stdout",
     "text": [
      "Answer Fine Tuned:\n",
      "Yes, areas like Chandni Chowk, Khan Market and Connaught Place are known for their street food options even during the time for brunch or breakfast They serve as ideal spots for a leisurely meal at this time of the day\n",
      "Best Answer:\n",
      "Yes, some areas like Paranthe Wali Gali in Chandni Chowk are known for serving breakfast delicacies like stuffed parathas, making them perfect for a late breakfast or brunch.\n",
      "\n",
      "Question:\n",
      "Which markets in are known for their book selections, especially for avid readers?\n"
     ]
    },
    {
     "output_type": "stream",
     "name": "stderr",
     "text": [
      "Setting `pad_token_id` to `eos_token_id`:11 for open-end generation.\n"
     ]
    },
    {
     "output_type": "stream",
     "name": "stdout",
     "text": [
      "Answer Fine Tuned:\n",
      "Book markets in Delhi such as Daryaganj Book Street and Karol Bagh's Book Street are popular for their vast collection of rare and second-hand books, making them ideal spots for avid readers Several bookstores within these markets offer a wide range of literary titles, making them excellent choices for bookworms\n",
      "Best Answer:\n",
      "Daryaganj's Sunday Book Market is a renowned destination for book enthusiasts, offering an extensive collection of both new and second-hand books, including rare editions and popular titles.\n",
      "\n",
      "Question:\n",
      "How can I go about booking an auto-rickshaw in Delhi as a tourist?\n"
     ]
    },
    {
     "output_type": "stream",
     "name": "stderr",
     "text": [
      "Setting `pad_token_id` to `eos_token_id`:11 for open-end generation.\n"
     ]
    },
    {
     "output_type": "stream",
     "name": "stdout",
     "text": [
      "Answer Fine Tuned:\n",
      "To book an auto-rickshaw as a tourist in Delhi, you can use the 'Auto-rickshaw Booking' feature in the Uber app Simply enter your destination and tap 'Auto-rickshaw' as the mode of transportation\n",
      "Best Answer:\n",
      "Booking an auto-rickshaw in Delhi as a tourist is as easy as stop one down from the street.Additionally, tourists can opt for ride-hailing apps such as Uber..\n",
      "\n",
      "Question:\n",
      "How can I plan an efficient sightseeing itinerary in Delhi?\n"
     ]
    },
    {
     "output_type": "stream",
     "name": "stderr",
     "text": [
      "Setting `pad_token_id` to `eos_token_id`:11 for open-end generation.\n"
     ]
    },
    {
     "output_type": "stream",
     "name": "stdout",
     "text": [
      "Answer Fine Tuned:\n",
      "Plan an efficient sightseeing itinerary in Delhi by prioritizing landmarks like Parliament House, India Gate, Qutub Minar, Jama Masjid, and the Red Fort, according to the time of day you wish to visit them Choose outdoor activities like walking tours and auto-rickshaw rides for the afternoon\n",
      "Best Answer:\n",
      "Research the attractions you want to visit and group them by proximity. Use the Delhi Metro for longer distances and autos/taxis for shorter ones to maximize your time.\n",
      "\n",
      "Question:\n",
      "Are there any less-known attractions in Delhi that are worth exploring?\n"
     ]
    },
    {
     "output_type": "stream",
     "name": "stderr",
     "text": [
      "Setting `pad_token_id` to `eos_token_id`:11 for open-end generation.\n"
     ]
    },
    {
     "output_type": "stream",
     "name": "stdout",
     "text": [
      "Answer Fine Tuned:\n",
      "Certainly, consider exploring attractions in Delhi such as 'Lok Kala Manch' (Cultural Center), 'Janpath' (Shopping Street), 'Lal Qila' (Red Fort), and 'Humayun's Tomb' for less crowded experiences and unique cultural experiences For more information, refer to our guide to Delhi's best attractions\n",
      "Best Answer:\n",
      "Yes, you can discover places like Agrasen ki Baoli, Mehrauli Archaeological Park, Shanti Van Tughlaqabad Fort, Doll Museum and the National Rail Museum for distinctive and quieter experiences.\n",
      "\n",
      "Question:\n",
      "What is the preferred means of transportation for longer journeys?\n"
     ]
    },
    {
     "output_type": "stream",
     "name": "stderr",
     "text": [
      "Setting `pad_token_id` to `eos_token_id`:11 for open-end generation.\n"
     ]
    },
    {
     "output_type": "stream",
     "name": "stdout",
     "text": [
      "Answer Fine Tuned:\n",
      "When traveling longer distances, a well-connected train is often the preferred choice, as it ensures you don't have to rely on transfers For shorter trips, an air-conditioned bus or cab may be more convenient\n",
      "Best Answer:\n",
      "When embarking on longer journeys within Delhi, it is recommended to choose metro services or taxis.\n",
      "\n",
      "Question:\n",
      "How can I ensure safe transportation when traveling at night within the city?\n"
     ]
    },
    {
     "output_type": "stream",
     "name": "stderr",
     "text": [
      "Setting `pad_token_id` to `eos_token_id`:11 for open-end generation.\n"
     ]
    },
    {
     "output_type": "stream",
     "name": "stdout",
     "text": [
      "Answer Fine Tuned:\n",
      "Make sure you travel during the day for safer transportation when traveling at night within the city Moreover, ensure reliable taxis for safer transportation at night\n",
      "Best Answer:\n",
      "For safe transportation at night within the city, consider using registered taxi services like Uber or Ola. Additionally, you can rely on the safety of the Delhi Metro, which operates between 6 AM and 11 PM.\n",
      "\n",
      "Question:\n",
      "Is the Delhi Metro well-connected to both historical landmarks and cultural destinations in the city?\n"
     ]
    },
    {
     "output_type": "stream",
     "name": "stderr",
     "text": [
      "Setting `pad_token_id` to `eos_token_id`:11 for open-end generation.\n"
     ]
    },
    {
     "output_type": "stream",
     "name": "stdout",
     "text": [
      "Answer Fine Tuned:\n",
      "Absolutely, Delhi Metro offers quick connectivity to historical landmarks and cultural destinations including the Red Fort, Qutub Minar, India Gate, Humayun's Tomb, Jama Masjid, Nehru Planetarium, Nehru Science Centre and the National Rail Museum Additionally, it provides access to modern attractions like the India Gate and Nehru Place\n",
      "Best Answer:\n",
      "Yes, the Delhi Metro boasts excellent connectivity to historical landmarks such as the Red Fort and Qutub Minar, as well as cultural hotspots. This makes it a highly accessible and efficient mode of transportation for tourists wanting to visit these sites.\n",
      "\n",
      "Question:\n",
      "What's the local cuisine like in the city?\n"
     ]
    },
    {
     "output_type": "stream",
     "name": "stderr",
     "text": [
      "Setting `pad_token_id` to `eos_token_id`:11 for open-end generation.\n"
     ]
    },
    {
     "output_type": "stream",
     "name": "stdout",
     "text": [
      "Answer Fine Tuned:\n",
      "Delhi offers a wide variety of cuisine options, including traditional dishes like Dal-chaap, Roti, and Sabzi, as well as modern dishes like pizzas and burgers Be sure to try some of the city's famous street food fares while you're exploring\n",
      "Best Answer:\n",
      "Delhi is famous for its street food and diverse culinary scene. Don't miss trying chaat, kebabs, and Mughlai dishes, Momos, Chole Bhature, Paranthas, Dahi Bhalle.\n",
      "\n",
      "Question:\n",
      "What are the transportation options available to reach Delhi's attractions?\n"
     ]
    },
    {
     "output_type": "stream",
     "name": "stderr",
     "text": [
      "Setting `pad_token_id` to `eos_token_id`:11 for open-end generation.\n"
     ]
    },
    {
     "output_type": "stream",
     "name": "stdout",
     "text": [
      "Answer Fine Tuned:\n",
      "To reach Delhi's attractions, you can choose to use the convenient Delhi Metro service or taxis at affordable prices The metro is a fast and efficient option\n",
      "Best Answer:\n",
      "Delhi's attractions are conveniently accessible through a variety of transportation options, including the extensive Delhi Metro network, public buses, auto-rickshaws, taxis, and car rentals. Most attractions are well-connected within the city.\n",
      "\n",
      "Question:\n",
      "Are there any wildlife getaways near Delhi?\n"
     ]
    },
    {
     "output_type": "stream",
     "name": "stderr",
     "text": [
      "Setting `pad_token_id` to `eos_token_id`:11 for open-end generation.\n"
     ]
    },
    {
     "output_type": "stream",
     "name": "stdout",
     "text": [
      "Answer Fine Tuned:\n",
      "Yes, you can visit getaways like Jim Corbett National Park, Sariska Tiger Reserve and Bharatpur Bird Sanctuary for wildlife and nature retreats from the city Many Delhi tourists visit these wildlife getaways for wildlife safaris and nature experiences\n",
      "Best Answer:\n",
      "Yes, places like Jim Corbett National Park, Sariska Tiger Reserve and Bharatpur Bird Sanctuary,  are within driving distance from Delhi.\n",
      "\n",
      "Question:\n",
      "Which nearby hill stations can I visit for 2-3 days?\n"
     ]
    },
    {
     "output_type": "stream",
     "name": "stderr",
     "text": [
      "Setting `pad_token_id` to `eos_token_id`:11 for open-end generation.\n"
     ]
    },
    {
     "output_type": "stream",
     "name": "stdout",
     "text": [
      "Answer Fine Tuned:\n",
      "If you're looking for 2-3 days hill stations near Delhi, then consider exploring destinations like Manali, Mussoorie, Ranikhet and Nainital for a memorable experience\n",
      "Best Answer:\n",
      "You have several nearby options for a weekend break from Delhi, including hill stations like Shimla, Manali, Mussoorie, Kasaulo, and Nainital, each offering a refreshing getaway.\n",
      "\n",
      "Question:\n",
      "What's the process for booking an auto-rickshaw in Delhi?\n"
     ]
    },
    {
     "output_type": "stream",
     "name": "stderr",
     "text": [
      "Setting `pad_token_id` to `eos_token_id`:11 for open-end generation.\n"
     ]
    },
    {
     "output_type": "stream",
     "name": "stdout",
     "text": [
      "Answer Fine Tuned:\n",
      "To book an auto-rickshaw in Delhi, download the 'Bhavini' app Select 'Auto' under the 'Rickshaw' tab\n",
      "Best Answer:\n",
      "To book an auto-rickshaw, you can simply flag one down from the street. Negotiate the fare before starting the ride, and consider using ride-hailing apps like Ola and Uber for a more standardized experience.\n",
      "\n",
      "Question:\n",
      "Is the Metro a practical choice for accessing historical and cultural sites?\n"
     ]
    },
    {
     "output_type": "stream",
     "name": "stderr",
     "text": [
      "Setting `pad_token_id` to `eos_token_id`:11 for open-end generation.\n"
     ]
    },
    {
     "output_type": "stream",
     "name": "stdout",
     "text": [
      "Answer Fine Tuned:\n",
      "Yes, the Metro can be a practical choice for accessing historical and cultural sites, as stations frequently located within walking distance of attractions Delhi offers an integrated Metro station locator app that provides real-time metro information\n",
      "Best Answer:\n",
      "Certainly, the Delhi Metro provides a practical and efficient means of reaching historical landmarks. It's a convenient option for tourists looking to explore these sites hassle-free.\n",
      "\n",
      "Question:\n",
      "Could you recommend some iconic dishes from Delhi's local culinary scene that are worth trying?\n"
     ]
    },
    {
     "output_type": "stream",
     "name": "stderr",
     "text": [
      "Setting `pad_token_id` to `eos_token_id`:11 for open-end generation.\n"
     ]
    },
    {
     "output_type": "stream",
     "name": "stdout",
     "text": [
      "Answer Fine Tuned:\n",
      "Certainly, Delhi's local culinary scene boasts iconic dishes like Makki di Roti (flatbread made with whole wheat flour), Aloo Tikki, Chole Bhature, Dahi Bhalla and Lassi I recommend trying these iconic dishes for a delicious dining experience\n",
      "Best Answer:\n",
      "Don't miss out on trying iconic dishes from Delhi's local culinary scene, including Butter Chicken, Chole Bhature, Paratha, and a diverse selection of kebabs.\n",
      "\n",
      "Question:\n",
      "What's the best approach for using public transportation to explore the city?\n"
     ]
    },
    {
     "output_type": "stream",
     "name": "stderr",
     "text": [
      "Setting `pad_token_id` to `eos_token_id`:11 for open-end generation.\n"
     ]
    },
    {
     "output_type": "stream",
     "name": "stdout",
     "text": [
      "Answer Fine Tuned:\n",
      "Using Delhi's well-developed metro system and buses is the most convenient way to explore the city Many major attractions have dedicated metro stations for easy access\n",
      "Best Answer:\n",
      "To explore Delhi using public transportation, consider the available options such as the extensive metro network, taxis, auto-rickshaw and buses.\n",
      "\n",
      "Question:\n",
      "How can tourists easily visit Delhi's famous markets?\n"
     ]
    },
    {
     "output_type": "stream",
     "name": "stderr",
     "text": [
      "Setting `pad_token_id` to `eos_token_id`:11 for open-end generation.\n"
     ]
    },
    {
     "output_type": "stream",
     "name": "stdout",
     "text": [
      "Answer Fine Tuned:\n",
      "To visit Delhi's famous markets, the Delhi Metro is a convenient option Taxis and auto-rickshaws may lead to traffic jams\n",
      "Best Answer:\n",
      "Auto-rickshaws, metro, buses and cabs are readily available for access. The most popular choice is the Delhi Metro, which is equipped with dedicated stations for these markets.\n",
      "\n",
      "Question:\n",
      "Are there markets with a selection of handicrafts and home decor items?\n"
     ]
    },
    {
     "output_type": "stream",
     "name": "stderr",
     "text": [
      "Setting `pad_token_id` to `eos_token_id`:11 for open-end generation.\n"
     ]
    },
    {
     "output_type": "stream",
     "name": "stdout",
     "text": [
      "Answer Fine Tuned:\n",
      "Yes, markets like Dilli Haat, Nehru Palace, and Kamla Nagar have a wide variety of handicrafts, home decor items, and cultural performances These markets are ideal for purchasing unique souvenirs and enjoying cultural performances\n",
      "Best Answer:\n",
      "Yes, markets like Delhi Haat and Crafts Museum offer a wide range of handicrafts, textiles, and home decor items that showcase India's craftsmanship.\n",
      "\n",
      "Question:\n",
      "What is the recommended time of year to visit Delhi's tourist spots for comfortable weather?\n"
     ]
    },
    {
     "output_type": "stream",
     "name": "stderr",
     "text": [
      "Setting `pad_token_id` to `eos_token_id`:11 for open-end generation.\n"
     ]
    },
    {
     "output_type": "stream",
     "name": "stdout",
     "text": [
      "Answer Fine Tuned:\n",
      "You can enjoy comfortable weather at Delhi's tourist spots during the winter season, which typically spans from October to March The months of December, January and February are when the city is at its most pleasant\n",
      "Best Answer:\n",
      "For a comfortable and enjoyable visit to Delhi's tourist spots, consider the winter season, which typically occurs from October to March.\n",
      "\n",
      "Question:\n",
      "What are the different types of metro cards available for tourists?\n"
     ]
    },
    {
     "output_type": "stream",
     "name": "stderr",
     "text": [
      "Setting `pad_token_id` to `eos_token_id`:11 for open-end generation.\n"
     ]
    },
    {
     "output_type": "stream",
     "name": "stdout",
     "text": [
      "Answer Fine Tuned:\n",
      "Tourists have the option to purchase a metro card that can be used for all travel within a specific day Known as a \"One Day Pass,\" a \"Tourist Card\" provides unlimited travel within a specified time frame\n",
      "Best Answer:\n",
      "Tourists can choose from a 'Tourist Card' offering unlimited travel for a certain number of days, or a 'Stored Value Card' (Smart Card) that can be recharged for multiple rides.\n",
      "\n",
      "Question:\n",
      "Which markets in Delhi are renowned for offering a selection of handicrafts and jewellery?\n"
     ]
    },
    {
     "output_type": "stream",
     "name": "stderr",
     "text": [
      "Setting `pad_token_id` to `eos_token_id`:11 for open-end generation.\n"
     ]
    },
    {
     "output_type": "stream",
     "name": "stdout",
     "text": [
      "Answer Fine Tuned:\n",
      "To explore a diverse range of handicrafts and jewellery, markets like Chandni Chowk and Karol Bagh are renowned Known for their offerings, Delhi boasts a variety of markets that offer an array of handicrafts and jewellery\n",
      "Best Answer:\n",
      "Janpath Market and Delhi Haat are widely recognized markets where you can find an extensive range of traditional handicrafts and jewellery.\n",
      "\n",
      "Question:\n",
      "What are the popular areas or tourist spots in Delhi where tourists can easily find auto-rickshaws?\n"
     ]
    },
    {
     "output_type": "stream",
     "name": "stderr",
     "text": [
      "Setting `pad_token_id` to `eos_token_id`:11 for open-end generation.\n"
     ]
    },
    {
     "output_type": "stream",
     "name": "stdout",
     "text": [
      "Answer Fine Tuned:\n",
      "Delhi offers extensive transportation options including auto-rickshaws, buses, and the recently launched Metro Most tourist spots have a dedicated lane for auto-rickshaws, making it easy for passengers to find and board the vehicle\n",
      "Best Answer:\n",
      "Tourists can easily find auto-rickshaws near popular areas and tourist spots in Delhi, including Connaught Place, India Gate, and major metro stations.\n",
      "\n",
      "Question:\n",
      "Are there attractions in Delhi that offer cultural performances or events?\n"
     ]
    },
    {
     "output_type": "stream",
     "name": "stderr",
     "text": [
      "Setting `pad_token_id` to `eos_token_id`:11 for open-end generation.\n"
     ]
    },
    {
     "output_type": "stream",
     "name": "stdout",
     "text": [
      "Answer Fine Tuned:\n",
      "Yes, attractions like Nehru Planetarium, Nehru Memorial Museum, and National School of Drama offer cultural performances and events They are popular choices for experiencing Delhi's culture and arts\n",
      "Best Answer:\n",
      "Yes, attractions like Dilli Haat and Kingdom of Dreams offer cultural performances, traditional crafts, and entertainment options that showcase Delhi's diverse culture.\n",
      "\n",
      "Question:\n",
      "How can I pay for cab rides?\n"
     ]
    },
    {
     "output_type": "stream",
     "name": "stderr",
     "text": [
      "Setting `pad_token_id` to `eos_token_id`:11 for open-end generation.\n"
     ]
    },
    {
     "output_type": "stream",
     "name": "stdout",
     "text": [
      "Answer Fine Tuned:\n",
      "You can pay for cab rides using cash, available payment options like credit or debit cards, or the mobile app Ola Most drivers are familiar with popular routes like Delhi Airport and Delhi Downtown\n",
      "Best Answer:\n",
      "You can pay for cab rides using cash, digital wallets, or linked credit/debit cards through the respective cab service apps. Most drivers prefer digital payments for convenience.\n",
      "\n",
      "Question:\n",
      "Is there a separate fare for using the Airport Express line?\n"
     ]
    },
    {
     "output_type": "stream",
     "name": "stderr",
     "text": [
      "Setting `pad_token_id` to `eos_token_id`:11 for open-end generation.\n"
     ]
    },
    {
     "output_type": "stream",
     "name": "stdout",
     "text": [
      "Answer Fine Tuned:\n",
      "Yes, there is a separate fare for using the Airport Express line Passengers traveling from Delhi's Indira Gandhi International Airport to the airport's dedicated terminal (Terminal 3) using the Airport Express line are required to pay a supplementary fare in addition to the regular fare for the same journey\n",
      "Best Answer:\n",
      "Yes, the Airport Express line has a separate fare structure. You can use your Smart Card, Token, or other payment methods to travel on this line, but the fare may be different from other lines.\n",
      "\n",
      "Question:\n",
      "How can I reach the Delhi Metro from the airport?\n"
     ]
    },
    {
     "output_type": "stream",
     "name": "stderr",
     "text": [
      "Setting `pad_token_id` to `eos_token_id`:11 for open-end generation.\n"
     ]
    },
    {
     "output_type": "stream",
     "name": "stdout",
     "text": [
      "Answer Fine Tuned:\n",
      "The airport terminal is connected to the Delhi Metro Red Line at Terminal 1 and Terminal 3 Use the metro for rapid access to the city\n",
      "Best Answer:\n",
      "Delhi's Indira Gandhi International Airport is well-connected to the Delhi Metro. You can access the metro station directly from Terminal 3, and there are shuttle services connecting Terminals 1 and 2 to the metro station.\n",
      "\n",
      "Question:\n",
      "What choices do tourists have when it comes to metro cards?\n"
     ]
    },
    {
     "output_type": "stream",
     "name": "stderr",
     "text": [
      "Setting `pad_token_id` to `eos_token_id`:11 for open-end generation.\n"
     ]
    },
    {
     "output_type": "stream",
     "name": "stdout",
     "text": [
      "Answer Fine Tuned:\n",
      "Tourists have the option of purchasing a single-journey ticket or a multi-journey card that provides multiple trips within a specified time frame The multi-journey card is often more cost-effective\n",
      "Best Answer:\n",
      "For tourists in Delhi, there are two primary choices for metro cards: the 'Tourist Card,' which offers unlimited travel for a set duration, and the 'Stored Value Card' (Smart Card), ideal for multiple rides and easy top-ups.\n",
      "\n",
      "Question:\n",
      "What's the best time to visit Delhi?\n"
     ]
    },
    {
     "output_type": "stream",
     "name": "stderr",
     "text": [
      "Setting `pad_token_id` to `eos_token_id`:11 for open-end generation.\n"
     ]
    },
    {
     "output_type": "stream",
     "name": "stdout",
     "text": [
      "Answer Fine Tuned:\n",
      "On your Delhi tour, the best time to visit depends on what you're looking for For outdoor activities and historical sites, November to March is ideal\n",
      "Best Answer:\n",
      "The best time to visit Delhi is from October to March when the weather is pleasant and suitable for exploring outside.\n",
      "\n",
      "Question:\n",
      "What transportation choices are ideal for a comfortable experience during summer in Delhi?\n"
     ]
    },
    {
     "output_type": "stream",
     "name": "stderr",
     "text": [
      "Setting `pad_token_id` to `eos_token_id`:11 for open-end generation.\n"
     ]
    },
    {
     "output_type": "stream",
     "name": "stdout",
     "text": [
      "Answer Fine Tuned:\n",
      "To experience a comfortable summer while traveling in Delhi, it's advisable to opt for air-conditioned transportation options like taxis, rideshares, and the Metro Further recommendations include wearing light clothing, staying hydrated, and avoiding direct sunlight\n",
      "Best Answer:\n",
      "For a comfortable experience during hot weather in Delhi, opt for air-conditioned transportation options such as taxis and metro services. You can also opt for some air conditioned buses.\n",
      "\n",
      "Question:\n",
      "How do I hire an auto-rickshaw?\n"
     ]
    },
    {
     "output_type": "stream",
     "name": "stderr",
     "text": [
      "Setting `pad_token_id` to `eos_token_id`:11 for open-end generation.\n"
     ]
    },
    {
     "output_type": "stream",
     "name": "stdout",
     "text": [
      "Answer Fine Tuned:\n",
      "You can hail an auto-rickshaw on the street or use taxi apps like Ola and Uber Most drivers have the app on their phone for easy payment\n",
      "Best Answer:\n",
      "You can easily find auto-rickshaws on the streets. Make sure the driver agrees to use the meter or negotiate the fare before starting the journey.\n",
      "\n",
      "Question:\n",
      "What strategies can I use to minimize crowds and have a peaceful visit to well-known attraction?\n"
     ]
    },
    {
     "output_type": "stream",
     "name": "stderr",
     "text": [
      "Setting `pad_token_id` to `eos_token_id`:11 for open-end generation.\n"
     ]
    },
    {
     "output_type": "stream",
     "name": "stdout",
     "text": [
      "Answer Fine Tuned:\n",
      "To enjoy serene experiences at popular attractions like Delhi Zoo and Nehru Planetarium, it's often beneficial to visit during the morning or early evening hours Additionally considering the large number of visitors, exploring lesser-known attractions can provide a more peaceful experience\n",
      "Best Answer:\n",
      "Minimize crowds and enhance your experience at renowned Delhi attractions by planning your visits early in the morning, right after they open, or by choosing weekdays for your outings.\n",
      "\n",
      "Question:\n",
      "What's the best approach to beat the crowds and fully enjoy Delhi's popular attractions?\n"
     ]
    },
    {
     "output_type": "stream",
     "name": "stderr",
     "text": [
      "Setting `pad_token_id` to `eos_token_id`:11 for open-end generation.\n"
     ]
    },
    {
     "output_type": "stream",
     "name": "stdout",
     "text": [
      "Answer Fine Tuned:\n",
      "To fully enjoy Delhi's popular attractions, it's best to plan your visit during off-peak hours, or during weekdays when crowds are minimal Avoid visiting during or during holidays and weekends when traffic and visitor volume is high\n",
      "Best Answer:\n",
      "To beat the crowds and fully enjoy Delhi's popular attractions, plan your visits for the early morning when they open or opt for weekday excursions.\n",
      "\n",
      "Question:\n",
      "For traveling in city during busy rush hours, which mode of transportation is the most reliable?\n"
     ]
    },
    {
     "output_type": "stream",
     "name": "stderr",
     "text": [
      "Setting `pad_token_id` to `eos_token_id`:11 for open-end generation.\n"
     ]
    },
    {
     "output_type": "stream",
     "name": "stdout",
     "text": [
      "Answer Fine Tuned:\n",
      "For traveling in city during busy rush hours, the most reliable mode of transportation is the metro, as it operates at its fullest efficiency during peak hours Auto-rickshaws and taxis may experience traffic congestion\n",
      "Best Answer:\n",
      "To ensure reliability while traveling during busy rush hours in Delhi, it's advisable to choose the Delhi Metro.\n",
      "\n",
      "Question:\n",
      "How can I book a taxi?\n",
      "Answer Fine Tuned:\n",
      "You can book a taxi using mobile apps like 'Ola' and 'Uber' These apps provide the convenience of paying for the ride and tracking the cab's location\n",
      "Best Answer:\n",
      "You can book a taxi through various ride-hailing apps like Uber and Ola. These apps provide convenient options for booking cabs with upfront pricing and multiple vehicle choices.\n",
      "\n"
     ]
    },
    {
     "output_type": "error",
     "ename": "IndexError",
     "evalue": "Invalid key: 43 is out of bounds for size 43",
     "traceback": [
      "\u001b[0;31m---------------------------------------------------------------------------\u001b[0m",
      "\u001b[0;31mIndexError\u001b[0m                                Traceback (most recent call last)",
      "Cell \u001b[0;32mIn[9], line 2\u001b[0m\n\u001b[1;32m      1\u001b[0m \u001b[38;5;28;01mfor\u001b[39;00m i \u001b[38;5;129;01min\u001b[39;00m \u001b[38;5;28mrange\u001b[39m(\u001b[38;5;241m45\u001b[39m):\n\u001b[0;32m----> 2\u001b[0m     \u001b[43mft_generate\u001b[49m\u001b[43m(\u001b[49m\u001b[43mi\u001b[49m\u001b[43m)\u001b[49m\n",
      "Cell \u001b[0;32mIn[8], line 3\u001b[0m, in \u001b[0;36mft_generate\u001b[0;34m(index)\u001b[0m\n\u001b[1;32m      1\u001b[0m \u001b[38;5;28;01mdef\u001b[39;00m \u001b[38;5;21mft_generate\u001b[39m(index):\n\u001b[0;32m----> 3\u001b[0m   example_text \u001b[38;5;241m=\u001b[39m \u001b[43mdata\u001b[49m\u001b[43m[\u001b[49m\u001b[38;5;124;43m'\u001b[39;49m\u001b[38;5;124;43mtrain\u001b[39;49m\u001b[38;5;124;43m'\u001b[39;49m\u001b[43m]\u001b[49m\u001b[43m[\u001b[49m\u001b[43mindex\u001b[49m\u001b[43m]\u001b[49m[\u001b[38;5;124m'\u001b[39m\u001b[38;5;124mquestion\u001b[39m\u001b[38;5;124m'\u001b[39m]\n\u001b[1;32m      4\u001b[0m   correct_answer \u001b[38;5;241m=\u001b[39m data[\u001b[38;5;124m'\u001b[39m\u001b[38;5;124mtrain\u001b[39m\u001b[38;5;124m'\u001b[39m][index][\u001b[38;5;124m'\u001b[39m\u001b[38;5;124manswer\u001b[39m\u001b[38;5;124m'\u001b[39m]\n\u001b[1;32m      6\u001b[0m   \u001b[38;5;28mprint\u001b[39m(\u001b[38;5;124m\"\u001b[39m\u001b[38;5;124mQuestion:\u001b[39m\u001b[38;5;124m\"\u001b[39m)\n",
      "File \u001b[0;32m~/snap/snapd-desktop-integration/83/Desktop/Falcon/falconllmenv/lib/python3.10/site-packages/datasets/arrow_dataset.py:2803\u001b[0m, in \u001b[0;36mDataset.__getitem__\u001b[0;34m(self, key)\u001b[0m\n\u001b[1;32m   2801\u001b[0m \u001b[38;5;28;01mdef\u001b[39;00m \u001b[38;5;21m__getitem__\u001b[39m(\u001b[38;5;28mself\u001b[39m, key):  \u001b[38;5;66;03m# noqa: F811\u001b[39;00m\n\u001b[1;32m   2802\u001b[0m \u001b[38;5;250m    \u001b[39m\u001b[38;5;124;03m\"\"\"Can be used to index columns (by string names) or rows (by integer index or iterable of indices or bools).\"\"\"\u001b[39;00m\n\u001b[0;32m-> 2803\u001b[0m     \u001b[38;5;28;01mreturn\u001b[39;00m \u001b[38;5;28;43mself\u001b[39;49m\u001b[38;5;241;43m.\u001b[39;49m\u001b[43m_getitem\u001b[49m\u001b[43m(\u001b[49m\u001b[43mkey\u001b[49m\u001b[43m)\u001b[49m\n",
      "File \u001b[0;32m~/snap/snapd-desktop-integration/83/Desktop/Falcon/falconllmenv/lib/python3.10/site-packages/datasets/arrow_dataset.py:2787\u001b[0m, in \u001b[0;36mDataset._getitem\u001b[0;34m(self, key, **kwargs)\u001b[0m\n\u001b[1;32m   2785\u001b[0m format_kwargs \u001b[38;5;241m=\u001b[39m format_kwargs \u001b[38;5;28;01mif\u001b[39;00m format_kwargs \u001b[38;5;129;01mis\u001b[39;00m \u001b[38;5;129;01mnot\u001b[39;00m \u001b[38;5;28;01mNone\u001b[39;00m \u001b[38;5;28;01melse\u001b[39;00m {}\n\u001b[1;32m   2786\u001b[0m formatter \u001b[38;5;241m=\u001b[39m get_formatter(format_type, features\u001b[38;5;241m=\u001b[39m\u001b[38;5;28mself\u001b[39m\u001b[38;5;241m.\u001b[39m_info\u001b[38;5;241m.\u001b[39mfeatures, \u001b[38;5;241m*\u001b[39m\u001b[38;5;241m*\u001b[39mformat_kwargs)\n\u001b[0;32m-> 2787\u001b[0m pa_subtable \u001b[38;5;241m=\u001b[39m \u001b[43mquery_table\u001b[49m\u001b[43m(\u001b[49m\u001b[38;5;28;43mself\u001b[39;49m\u001b[38;5;241;43m.\u001b[39;49m\u001b[43m_data\u001b[49m\u001b[43m,\u001b[49m\u001b[43m \u001b[49m\u001b[43mkey\u001b[49m\u001b[43m,\u001b[49m\u001b[43m \u001b[49m\u001b[43mindices\u001b[49m\u001b[38;5;241;43m=\u001b[39;49m\u001b[38;5;28;43mself\u001b[39;49m\u001b[38;5;241;43m.\u001b[39;49m\u001b[43m_indices\u001b[49m\u001b[43m \u001b[49m\u001b[38;5;28;43;01mif\u001b[39;49;00m\u001b[43m \u001b[49m\u001b[38;5;28;43mself\u001b[39;49m\u001b[38;5;241;43m.\u001b[39;49m\u001b[43m_indices\u001b[49m\u001b[43m \u001b[49m\u001b[38;5;129;43;01mis\u001b[39;49;00m\u001b[43m \u001b[49m\u001b[38;5;129;43;01mnot\u001b[39;49;00m\u001b[43m \u001b[49m\u001b[38;5;28;43;01mNone\u001b[39;49;00m\u001b[43m \u001b[49m\u001b[38;5;28;43;01melse\u001b[39;49;00m\u001b[43m \u001b[49m\u001b[38;5;28;43;01mNone\u001b[39;49;00m\u001b[43m)\u001b[49m\n\u001b[1;32m   2788\u001b[0m formatted_output \u001b[38;5;241m=\u001b[39m format_table(\n\u001b[1;32m   2789\u001b[0m     pa_subtable, key, formatter\u001b[38;5;241m=\u001b[39mformatter, format_columns\u001b[38;5;241m=\u001b[39mformat_columns, output_all_columns\u001b[38;5;241m=\u001b[39moutput_all_columns\n\u001b[1;32m   2790\u001b[0m )\n\u001b[1;32m   2791\u001b[0m \u001b[38;5;28;01mreturn\u001b[39;00m formatted_output\n",
      "File \u001b[0;32m~/snap/snapd-desktop-integration/83/Desktop/Falcon/falconllmenv/lib/python3.10/site-packages/datasets/formatting/formatting.py:583\u001b[0m, in \u001b[0;36mquery_table\u001b[0;34m(table, key, indices)\u001b[0m\n\u001b[1;32m    581\u001b[0m \u001b[38;5;28;01melse\u001b[39;00m:\n\u001b[1;32m    582\u001b[0m     size \u001b[38;5;241m=\u001b[39m indices\u001b[38;5;241m.\u001b[39mnum_rows \u001b[38;5;28;01mif\u001b[39;00m indices \u001b[38;5;129;01mis\u001b[39;00m \u001b[38;5;129;01mnot\u001b[39;00m \u001b[38;5;28;01mNone\u001b[39;00m \u001b[38;5;28;01melse\u001b[39;00m table\u001b[38;5;241m.\u001b[39mnum_rows\n\u001b[0;32m--> 583\u001b[0m     \u001b[43m_check_valid_index_key\u001b[49m\u001b[43m(\u001b[49m\u001b[43mkey\u001b[49m\u001b[43m,\u001b[49m\u001b[43m \u001b[49m\u001b[43msize\u001b[49m\u001b[43m)\u001b[49m\n\u001b[1;32m    584\u001b[0m \u001b[38;5;66;03m# Query the main table\u001b[39;00m\n\u001b[1;32m    585\u001b[0m \u001b[38;5;28;01mif\u001b[39;00m indices \u001b[38;5;129;01mis\u001b[39;00m \u001b[38;5;28;01mNone\u001b[39;00m:\n",
      "File \u001b[0;32m~/snap/snapd-desktop-integration/83/Desktop/Falcon/falconllmenv/lib/python3.10/site-packages/datasets/formatting/formatting.py:526\u001b[0m, in \u001b[0;36m_check_valid_index_key\u001b[0;34m(key, size)\u001b[0m\n\u001b[1;32m    524\u001b[0m \u001b[38;5;28;01mif\u001b[39;00m \u001b[38;5;28misinstance\u001b[39m(key, \u001b[38;5;28mint\u001b[39m):\n\u001b[1;32m    525\u001b[0m     \u001b[38;5;28;01mif\u001b[39;00m (key \u001b[38;5;241m<\u001b[39m \u001b[38;5;241m0\u001b[39m \u001b[38;5;129;01mand\u001b[39;00m key \u001b[38;5;241m+\u001b[39m size \u001b[38;5;241m<\u001b[39m \u001b[38;5;241m0\u001b[39m) \u001b[38;5;129;01mor\u001b[39;00m (key \u001b[38;5;241m>\u001b[39m\u001b[38;5;241m=\u001b[39m size):\n\u001b[0;32m--> 526\u001b[0m         \u001b[38;5;28;01mraise\u001b[39;00m \u001b[38;5;167;01mIndexError\u001b[39;00m(\u001b[38;5;124mf\u001b[39m\u001b[38;5;124m\"\u001b[39m\u001b[38;5;124mInvalid key: \u001b[39m\u001b[38;5;132;01m{\u001b[39;00mkey\u001b[38;5;132;01m}\u001b[39;00m\u001b[38;5;124m is out of bounds for size \u001b[39m\u001b[38;5;132;01m{\u001b[39;00msize\u001b[38;5;132;01m}\u001b[39;00m\u001b[38;5;124m\"\u001b[39m)\n\u001b[1;32m    527\u001b[0m     \u001b[38;5;28;01mreturn\u001b[39;00m\n\u001b[1;32m    528\u001b[0m \u001b[38;5;28;01melif\u001b[39;00m \u001b[38;5;28misinstance\u001b[39m(key, \u001b[38;5;28mslice\u001b[39m):\n",
      "\u001b[0;31mIndexError\u001b[0m: Invalid key: 43 is out of bounds for size 43"
     ]
    }
   ],
   "metadata": {}
  },
  {
   "cell_type": "code",
   "execution_count": 11,
   "source": [
    "len(ans)"
   ],
   "outputs": [
    {
     "output_type": "execute_result",
     "data": {
      "text/plain": [
       "43"
      ]
     },
     "metadata": {},
     "execution_count": 11
    }
   ],
   "metadata": {}
  },
  {
   "cell_type": "code",
   "execution_count": 12,
   "source": [
    "import json\n",
    "with open('answers.json', 'w') as json_file:\n",
    "    json.dump(ans, json_file)"
   ],
   "outputs": [],
   "metadata": {}
  }
 ],
 "metadata": {
  "orig_nbformat": 4,
  "language_info": {
   "name": "python",
   "version": "3.10.12",
   "mimetype": "text/x-python",
   "codemirror_mode": {
    "name": "ipython",
    "version": 3
   },
   "pygments_lexer": "ipython3",
   "nbconvert_exporter": "python",
   "file_extension": ".py"
  },
  "kernelspec": {
   "name": "python3",
   "display_name": "Python 3.10.12 64-bit ('falconllmenv': venv)"
  },
  "interpreter": {
   "hash": "fbe531172e303b58e4deaed90ac102adfea86e618bd9090930f5ad915745890a"
  }
 },
 "nbformat": 4,
 "nbformat_minor": 2
}