{
 "cells": [
  {
   "cell_type": "code",
   "execution_count": 7,
   "metadata": {},
   "outputs": [],
   "source": [
    "from haystack.nodes import Crawler\n",
    "\n",
    "crawler = Crawler(output_dir=\"IIITB_depth1_crawled_files\") # This tells the Crawler where to store the crawled files\n",
    "docs = crawler.crawl(\n",
    "    urls=[\"https://www.iiitb.ac.in/\"], # This tells the Crawler which URLs to crawl\n",
    "    filter_urls=[\"^https?:\\/\\/(www\\.)?iiitb\\.ac.in(?:\\/.*)?$\"], # Here, you can pass regular expressions that the crawled URLs must comply with\n",
    "    crawler_depth=1 # This tells the Crawler to follow only the links that it finds on the initial URLs\n",
    ")"
   ]
  }
 ],
 "metadata": {
  "kernelspec": {
   "display_name": "Python 3",
   "language": "python",
   "name": "python3"
  },
  "language_info": {
   "codemirror_mode": {
    "name": "ipython",
    "version": 3
   },
   "file_extension": ".py",
   "mimetype": "text/x-python",
   "name": "python",
   "nbconvert_exporter": "python",
   "pygments_lexer": "ipython3",
   "version": "3.10.12"
  },
  "orig_nbformat": 4
 },
 "nbformat": 4,
 "nbformat_minor": 2
}
