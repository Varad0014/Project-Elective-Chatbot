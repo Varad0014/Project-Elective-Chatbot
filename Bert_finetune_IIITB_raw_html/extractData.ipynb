{
 "cells": [
  {
   "cell_type": "code",
   "execution_count": 7,
   "metadata": {},
   "outputs": [],
   "source": [
    "from bs4 import BeautifulSoup\n",
    "import pandas as pd"
   ]
  },
  {
   "cell_type": "code",
   "execution_count": 8,
   "metadata": {},
   "outputs": [],
   "source": [
    "file_path = '/home/pushkar/Desktop/PE_Sem7/IIITBwebpage/www.iiitb.ac.in/deans-list.html'\n",
    "\n",
    "# Read the HTML content from the file\n",
    "with open(file_path, 'r', encoding='utf-8') as file:\n",
    "    html_content = file.read()\n",
    "\n",
    "# Parse the HTML content\n",
    "parser = BeautifulSoup(html_content, 'html.parser')"
   ]
  },
  {
   "cell_type": "code",
   "execution_count": 10,
   "metadata": {},
   "outputs": [
    {
     "data": {
      "text/plain": [
       "(110, 1)"
      ]
     },
     "execution_count": 10,
     "metadata": {},
     "output_type": "execute_result"
    }
   ],
   "source": [
    "list_all = parser.find_all('tr')\n",
    "series_4_df = pd.Series(list_all)\n",
    "\n",
    "# create a dataframe from pandas series:\n",
    "df = pd.DataFrame(series_4_df, columns=['content'])\n",
    "df['content'] = df['content'].astype(str)\n",
    "df.shape"
   ]
  },
  {
   "cell_type": "code",
   "execution_count": 15,
   "metadata": {},
   "outputs": [
    {
     "data": {
      "text/plain": [
       "'<tr height=\"46\">\\n<td height=\"46\" style=\"height:47px;\">1</td>\\n<td>DT2020009</td>\\n<td>Gayatri Raman</td>\\n</tr>'"
      ]
     },
     "execution_count": 15,
     "metadata": {},
     "output_type": "execute_result"
    }
   ],
   "source": [
    "df.loc[1,'content']"
   ]
  },
  {
   "cell_type": "code",
   "execution_count": 39,
   "metadata": {},
   "outputs": [],
   "source": [
    "df['Roll Number'] = df['content'].str.extract('<td>(.*?)</td>')\n"
   ]
  },
  {
   "cell_type": "code",
   "execution_count": 34,
   "metadata": {},
   "outputs": [
    {
     "data": {
      "text/html": [
       "<div>\n",
       "<style scoped>\n",
       "    .dataframe tbody tr th:only-of-type {\n",
       "        vertical-align: middle;\n",
       "    }\n",
       "\n",
       "    .dataframe tbody tr th {\n",
       "        vertical-align: top;\n",
       "    }\n",
       "\n",
       "    .dataframe thead th {\n",
       "        text-align: right;\n",
       "    }\n",
       "</style>\n",
       "<table border=\"1\" class=\"dataframe\">\n",
       "  <thead>\n",
       "    <tr style=\"text-align: right;\">\n",
       "      <th></th>\n",
       "      <th>content</th>\n",
       "      <th>title</th>\n",
       "      <th>Roll Number</th>\n",
       "      <th>Roll Number1</th>\n",
       "    </tr>\n",
       "  </thead>\n",
       "  <tbody>\n",
       "    <tr>\n",
       "      <th>0</th>\n",
       "      <td>&lt;tr height=\"46\"&gt;\\n&lt;td height=\"46\" style=\"heigh...</td>\n",
       "      <td>NaN</td>\n",
       "      <td>NaN</td>\n",
       "      <td>NaN</td>\n",
       "    </tr>\n",
       "    <tr>\n",
       "      <th>1</th>\n",
       "      <td>&lt;tr height=\"46\"&gt;\\n&lt;td height=\"46\" style=\"heigh...</td>\n",
       "      <td>DT2020009</td>\n",
       "      <td>DT2020009</td>\n",
       "      <td>NaN</td>\n",
       "    </tr>\n",
       "    <tr>\n",
       "      <th>2</th>\n",
       "      <td>&lt;tr height=\"46\"&gt;\\n&lt;td height=\"46\" style=\"heigh...</td>\n",
       "      <td>DT2021017</td>\n",
       "      <td>DT2021017</td>\n",
       "      <td>NaN</td>\n",
       "    </tr>\n",
       "    <tr>\n",
       "      <th>3</th>\n",
       "      <td>&lt;tr height=\"46\"&gt;\\n&lt;td height=\"46\" style=\"heigh...</td>\n",
       "      <td>MT2020010</td>\n",
       "      <td>MT2020010</td>\n",
       "      <td>NaN</td>\n",
       "    </tr>\n",
       "    <tr>\n",
       "      <th>4</th>\n",
       "      <td>&lt;tr height=\"46\"&gt;\\n&lt;td height=\"46\" style=\"heigh...</td>\n",
       "      <td>MT2020011</td>\n",
       "      <td>MT2020011</td>\n",
       "      <td>NaN</td>\n",
       "    </tr>\n",
       "  </tbody>\n",
       "</table>\n",
       "</div>"
      ],
      "text/plain": [
       "                                             content      title Roll Number  \\\n",
       "0  <tr height=\"46\">\\n<td height=\"46\" style=\"heigh...        NaN         NaN   \n",
       "1  <tr height=\"46\">\\n<td height=\"46\" style=\"heigh...  DT2020009   DT2020009   \n",
       "2  <tr height=\"46\">\\n<td height=\"46\" style=\"heigh...  DT2021017   DT2021017   \n",
       "3  <tr height=\"46\">\\n<td height=\"46\" style=\"heigh...  MT2020010   MT2020010   \n",
       "4  <tr height=\"46\">\\n<td height=\"46\" style=\"heigh...  MT2020011   MT2020011   \n",
       "\n",
       "  Roll Number1  \n",
       "0          NaN  \n",
       "1          NaN  \n",
       "2          NaN  \n",
       "3          NaN  \n",
       "4          NaN  "
      ]
     },
     "execution_count": 34,
     "metadata": {},
     "output_type": "execute_result"
    }
   ],
   "source": [
    "df.head()"
   ]
  }
 ],
 "metadata": {
  "kernelspec": {
   "display_name": "Python 3",
   "language": "python",
   "name": "python3"
  },
  "language_info": {
   "codemirror_mode": {
    "name": "ipython",
    "version": 3
   },
   "file_extension": ".py",
   "mimetype": "text/x-python",
   "name": "python",
   "nbconvert_exporter": "python",
   "pygments_lexer": "ipython3",
   "version": "3.10.12"
  },
  "orig_nbformat": 4
 },
 "nbformat": 4,
 "nbformat_minor": 2
}
